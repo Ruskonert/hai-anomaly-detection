{
 "cells": [
  {
   "cell_type": "code",
   "execution_count": 1,
   "metadata": {},
   "outputs": [],
   "source": [
    "import glob\n",
    "import datetime\n",
    "import pandas as pd\n",
    "import numpy as _"
   ]
  },
  {
   "cell_type": "code",
   "execution_count": 2,
   "metadata": {},
   "outputs": [
    {
     "data": {
      "text/html": [
       "<div>\n",
       "<style scoped>\n",
       "    .dataframe tbody tr th:only-of-type {\n",
       "        vertical-align: middle;\n",
       "    }\n",
       "\n",
       "    .dataframe tbody tr th {\n",
       "        vertical-align: top;\n",
       "    }\n",
       "\n",
       "    .dataframe thead th {\n",
       "        text-align: right;\n",
       "    }\n",
       "</style>\n",
       "<table border=\"1\" class=\"dataframe\">\n",
       "  <thead>\n",
       "    <tr style=\"text-align: right;\">\n",
       "      <th></th>\n",
       "      <th>Unnamed: 0</th>\n",
       "      <th>alpha</th>\n",
       "      <th>F1</th>\n",
       "      <th>taP</th>\n",
       "      <th>taR</th>\n",
       "    </tr>\n",
       "  </thead>\n",
       "  <tbody>\n",
       "    <tr>\n",
       "      <th>0</th>\n",
       "      <td>0</td>\n",
       "      <td>1.00</td>\n",
       "      <td>0.025459</td>\n",
       "      <td>0.012953</td>\n",
       "      <td>0.739193</td>\n",
       "    </tr>\n",
       "    <tr>\n",
       "      <th>1</th>\n",
       "      <td>1</td>\n",
       "      <td>1.01</td>\n",
       "      <td>0.028285</td>\n",
       "      <td>0.014375</td>\n",
       "      <td>0.874802</td>\n",
       "    </tr>\n",
       "    <tr>\n",
       "      <th>2</th>\n",
       "      <td>2</td>\n",
       "      <td>1.02</td>\n",
       "      <td>0.027752</td>\n",
       "      <td>0.014103</td>\n",
       "      <td>0.861867</td>\n",
       "    </tr>\n",
       "    <tr>\n",
       "      <th>3</th>\n",
       "      <td>3</td>\n",
       "      <td>1.03</td>\n",
       "      <td>0.028595</td>\n",
       "      <td>0.014563</td>\n",
       "      <td>0.785429</td>\n",
       "    </tr>\n",
       "    <tr>\n",
       "      <th>4</th>\n",
       "      <td>4</td>\n",
       "      <td>1.04</td>\n",
       "      <td>0.029790</td>\n",
       "      <td>0.015185</td>\n",
       "      <td>0.779041</td>\n",
       "    </tr>\n",
       "    <tr>\n",
       "      <th>...</th>\n",
       "      <td>...</td>\n",
       "      <td>...</td>\n",
       "      <td>...</td>\n",
       "      <td>...</td>\n",
       "      <td>...</td>\n",
       "    </tr>\n",
       "    <tr>\n",
       "      <th>196</th>\n",
       "      <td>196</td>\n",
       "      <td>2.96</td>\n",
       "      <td>0.009056</td>\n",
       "      <td>0.500000</td>\n",
       "      <td>0.004570</td>\n",
       "    </tr>\n",
       "    <tr>\n",
       "      <th>197</th>\n",
       "      <td>197</td>\n",
       "      <td>2.97</td>\n",
       "      <td>0.009056</td>\n",
       "      <td>0.500000</td>\n",
       "      <td>0.004570</td>\n",
       "    </tr>\n",
       "    <tr>\n",
       "      <th>198</th>\n",
       "      <td>198</td>\n",
       "      <td>2.98</td>\n",
       "      <td>0.009056</td>\n",
       "      <td>0.500000</td>\n",
       "      <td>0.004570</td>\n",
       "    </tr>\n",
       "    <tr>\n",
       "      <th>199</th>\n",
       "      <td>199</td>\n",
       "      <td>2.99</td>\n",
       "      <td>0.008584</td>\n",
       "      <td>0.500000</td>\n",
       "      <td>0.004329</td>\n",
       "    </tr>\n",
       "    <tr>\n",
       "      <th>200</th>\n",
       "      <td>200</td>\n",
       "      <td>3.00</td>\n",
       "      <td>0.008584</td>\n",
       "      <td>0.500000</td>\n",
       "      <td>0.004329</td>\n",
       "    </tr>\n",
       "  </tbody>\n",
       "</table>\n",
       "<p>1005 rows × 5 columns</p>\n",
       "</div>"
      ],
      "text/plain": [
       "     Unnamed: 0  alpha        F1       taP       taR\n",
       "0             0   1.00  0.025459  0.012953  0.739193\n",
       "1             1   1.01  0.028285  0.014375  0.874802\n",
       "2             2   1.02  0.027752  0.014103  0.861867\n",
       "3             3   1.03  0.028595  0.014563  0.785429\n",
       "4             4   1.04  0.029790  0.015185  0.779041\n",
       "..          ...    ...       ...       ...       ...\n",
       "196         196   2.96  0.009056  0.500000  0.004570\n",
       "197         197   2.97  0.009056  0.500000  0.004570\n",
       "198         198   2.98  0.009056  0.500000  0.004570\n",
       "199         199   2.99  0.008584  0.500000  0.004329\n",
       "200         200   3.00  0.008584  0.500000  0.004329\n",
       "\n",
       "[1005 rows x 5 columns]"
      ]
     },
     "execution_count": 2,
     "metadata": {},
     "output_type": "execute_result"
    }
   ],
   "source": [
    "result_raw = None\n",
    "\n",
    "for p in glob.glob('tapr_result_with_threshold_*.csv'):\n",
    "    data = pd.read_csv(p)\n",
    "    if result_raw is None:\n",
    "        result_raw = data\n",
    "        continue\n",
    "    result_raw = pd.concat([result_raw, data])\n",
    "result_raw"
   ]
  },
  {
   "cell_type": "code",
   "execution_count": 3,
   "metadata": {},
   "outputs": [],
   "source": [
    "result_mean = pd.DataFrame(columns=['alpha', 'F1', 'TaP', 'TaR'])\n",
    "for i in range(0, 201):\n",
    "    f1_mean = result_raw[result_raw['Unnamed: 0'] == i].F1.mean()\n",
    "    tap_mean = result_raw[result_raw['Unnamed: 0'] == i].taP.mean()\n",
    "    tar_mean = result_raw[result_raw['Unnamed: 0'] == i].taR.mean()\n",
    "    result_mean.loc[len(result_mean)] = [1 + 0.01*i, f1_mean, tap_mean, tar_mean]"
   ]
  },
  {
   "cell_type": "code",
   "execution_count": 4,
   "metadata": {},
   "outputs": [],
   "source": [
    "current_time = datetime.datetime.now().strftime('%Y%m%d%H%M%S')"
   ]
  },
  {
   "cell_type": "code",
   "execution_count": 5,
   "metadata": {},
   "outputs": [],
   "source": [
    "result_mean.to_csv(f\"tapr_result_mean_{current_time}.csv\")"
   ]
  },
  {
   "cell_type": "code",
   "execution_count": 6,
   "metadata": {},
   "outputs": [
    {
     "data": {
      "text/html": [
       "<div>\n",
       "<style scoped>\n",
       "    .dataframe tbody tr th:only-of-type {\n",
       "        vertical-align: middle;\n",
       "    }\n",
       "\n",
       "    .dataframe tbody tr th {\n",
       "        vertical-align: top;\n",
       "    }\n",
       "\n",
       "    .dataframe thead th {\n",
       "        text-align: right;\n",
       "    }\n",
       "</style>\n",
       "<table border=\"1\" class=\"dataframe\">\n",
       "  <thead>\n",
       "    <tr style=\"text-align: right;\">\n",
       "      <th></th>\n",
       "      <th>alpha</th>\n",
       "      <th>F1</th>\n",
       "      <th>TaP</th>\n",
       "      <th>TaR</th>\n",
       "    </tr>\n",
       "  </thead>\n",
       "  <tbody>\n",
       "    <tr>\n",
       "      <th>37</th>\n",
       "      <td>1.37</td>\n",
       "      <td>0.63659</td>\n",
       "      <td>0.606401</td>\n",
       "      <td>0.670212</td>\n",
       "    </tr>\n",
       "  </tbody>\n",
       "</table>\n",
       "</div>"
      ],
      "text/plain": [
       "    alpha       F1       TaP       TaR\n",
       "37   1.37  0.63659  0.606401  0.670212"
      ]
     },
     "execution_count": 6,
     "metadata": {},
     "output_type": "execute_result"
    }
   ],
   "source": [
    "result_mean[result_mean['F1'] == result_mean.F1.max()]"
   ]
  }
 ],
 "metadata": {
  "interpreter": {
   "hash": "767d51c1340bd893661ea55ea3124f6de3c7a262a8b4abca0554b478b1e2ff90"
  },
  "kernelspec": {
   "display_name": "Python 3.8.10 64-bit",
   "language": "python",
   "name": "python3"
  },
  "language_info": {
   "codemirror_mode": {
    "name": "ipython",
    "version": 3
   },
   "file_extension": ".py",
   "mimetype": "text/x-python",
   "name": "python",
   "nbconvert_exporter": "python",
   "pygments_lexer": "ipython3",
   "version": "3.8.2"
  },
  "orig_nbformat": 4
 },
 "nbformat": 4,
 "nbformat_minor": 2
}
