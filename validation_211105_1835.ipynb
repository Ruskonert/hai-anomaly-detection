{
 "cells": [
  {
   "cell_type": "markdown",
   "metadata": {},
   "source": [
    "# 최종 실험"
   ]
  },
  {
   "cell_type": "code",
   "execution_count": 1,
   "metadata": {},
   "outputs": [
    {
     "name": "stderr",
     "output_type": "stream",
     "text": [
      "2021-11-29 18:40:28.616840: I tensorflow/stream_executor/platform/default/dso_loader.cc:49] Successfully opened dynamic library libcudart.so.10.1\n"
     ]
    }
   ],
   "source": [
    "import datetime\n",
    "import dataset\n",
    "import glob\n",
    "\n",
    "import tensorflow as tf\n",
    "import tensorflow_addons as _\n",
    "\n",
    "import numpy as np\n",
    "import pandas as pd\n",
    "\n",
    "import matplotlib.pyplot as plt\n",
    "\n",
    "from multiprocessing import Pool\n",
    "from sklearn.cluster import KMeans\n",
    "from dataset import TrainDataset, ValidDataset, HaiDataset\n",
    "from keras.models import load_model\n",
    "\n",
    "from tqdm.notebook import tqdm\n",
    "from TaPR_pkg import etapr"
   ]
  },
  {
   "cell_type": "code",
   "execution_count": 2,
   "metadata": {},
   "outputs": [
    {
     "name": "stdout",
     "output_type": "stream",
     "text": [
      "20211129184030\n"
     ]
    }
   ],
   "source": [
    "current_time = datetime.datetime.now().strftime('%Y%m%d%H%M%S')\n",
    "print(current_time)"
   ]
  },
  {
   "cell_type": "code",
   "execution_count": 3,
   "metadata": {},
   "outputs": [
    {
     "name": "stdout",
     "output_type": "stream",
     "text": [
      "Available GPU? => [PhysicalDevice(name='/physical_device:GPU:0', device_type='GPU')]\n"
     ]
    },
    {
     "name": "stderr",
     "output_type": "stream",
     "text": [
      "2021-11-29 18:40:30.552256: I tensorflow/compiler/jit/xla_cpu_device.cc:41] Not creating XLA devices, tf_xla_enable_xla_devices not set\n",
      "2021-11-29 18:40:30.553092: I tensorflow/stream_executor/platform/default/dso_loader.cc:49] Successfully opened dynamic library libcuda.so.1\n",
      "2021-11-29 18:40:30.615098: I tensorflow/core/common_runtime/gpu/gpu_device.cc:1720] Found device 0 with properties: \n",
      "pciBusID: 0000:3b:00.0 name: Tesla V100S-PCIE-32GB computeCapability: 7.0\n",
      "coreClock: 1.597GHz coreCount: 80 deviceMemorySize: 31.75GiB deviceMemoryBandwidth: 1.03TiB/s\n",
      "2021-11-29 18:40:30.615131: I tensorflow/stream_executor/platform/default/dso_loader.cc:49] Successfully opened dynamic library libcudart.so.10.1\n",
      "2021-11-29 18:40:30.616870: I tensorflow/stream_executor/platform/default/dso_loader.cc:49] Successfully opened dynamic library libcublas.so.10\n",
      "2021-11-29 18:40:30.616933: I tensorflow/stream_executor/platform/default/dso_loader.cc:49] Successfully opened dynamic library libcublasLt.so.10\n",
      "2021-11-29 18:40:30.618467: I tensorflow/stream_executor/platform/default/dso_loader.cc:49] Successfully opened dynamic library libcufft.so.10\n",
      "2021-11-29 18:40:30.618738: I tensorflow/stream_executor/platform/default/dso_loader.cc:49] Successfully opened dynamic library libcurand.so.10\n",
      "2021-11-29 18:40:30.620470: I tensorflow/stream_executor/platform/default/dso_loader.cc:49] Successfully opened dynamic library libcusolver.so.10\n",
      "2021-11-29 18:40:30.621467: I tensorflow/stream_executor/platform/default/dso_loader.cc:49] Successfully opened dynamic library libcusparse.so.10\n",
      "2021-11-29 18:40:30.625300: I tensorflow/stream_executor/platform/default/dso_loader.cc:49] Successfully opened dynamic library libcudnn.so.7\n",
      "2021-11-29 18:40:30.627427: I tensorflow/core/common_runtime/gpu/gpu_device.cc:1862] Adding visible gpu devices: 0\n"
     ]
    }
   ],
   "source": [
    "is_cuda_gpu_available = tf.config.list_physical_devices('GPU')\n",
    "print(f\"Available GPU? => {is_cuda_gpu_available}\")"
   ]
  },
  {
   "cell_type": "markdown",
   "metadata": {},
   "source": [
    "# 0. 기본 데이터셋 및 모델 가져오기\n",
    "사전에 학습시킨 모델을 로드하고, 실험을 위한 데이터셋을 가져옵니다."
   ]
  },
  {
   "cell_type": "code",
   "execution_count": 4,
   "metadata": {},
   "outputs": [
    {
     "name": "stderr",
     "output_type": "stream",
     "text": [
      "2021-11-29 18:40:32.091227: I tensorflow/core/platform/cpu_feature_guard.cc:142] This TensorFlow binary is optimized with oneAPI Deep Neural Network Library (oneDNN) to use the following CPU instructions in performance-critical operations:  SSE4.1 SSE4.2 AVX AVX2 AVX512F FMA\n",
      "To enable them in other operations, rebuild TensorFlow with the appropriate compiler flags.\n",
      "2021-11-29 18:40:32.100276: I tensorflow/core/common_runtime/gpu/gpu_device.cc:1720] Found device 0 with properties: \n",
      "pciBusID: 0000:3b:00.0 name: Tesla V100S-PCIE-32GB computeCapability: 7.0\n",
      "coreClock: 1.597GHz coreCount: 80 deviceMemorySize: 31.75GiB deviceMemoryBandwidth: 1.03TiB/s\n",
      "2021-11-29 18:40:32.100370: I tensorflow/stream_executor/platform/default/dso_loader.cc:49] Successfully opened dynamic library libcudart.so.10.1\n",
      "2021-11-29 18:40:32.100435: I tensorflow/stream_executor/platform/default/dso_loader.cc:49] Successfully opened dynamic library libcublas.so.10\n",
      "2021-11-29 18:40:32.100471: I tensorflow/stream_executor/platform/default/dso_loader.cc:49] Successfully opened dynamic library libcublasLt.so.10\n",
      "2021-11-29 18:40:32.100505: I tensorflow/stream_executor/platform/default/dso_loader.cc:49] Successfully opened dynamic library libcufft.so.10\n",
      "2021-11-29 18:40:32.100539: I tensorflow/stream_executor/platform/default/dso_loader.cc:49] Successfully opened dynamic library libcurand.so.10\n",
      "2021-11-29 18:40:32.100573: I tensorflow/stream_executor/platform/default/dso_loader.cc:49] Successfully opened dynamic library libcusolver.so.10\n",
      "2021-11-29 18:40:32.100606: I tensorflow/stream_executor/platform/default/dso_loader.cc:49] Successfully opened dynamic library libcusparse.so.10\n",
      "2021-11-29 18:40:32.100640: I tensorflow/stream_executor/platform/default/dso_loader.cc:49] Successfully opened dynamic library libcudnn.so.7\n",
      "2021-11-29 18:40:32.104878: I tensorflow/core/common_runtime/gpu/gpu_device.cc:1862] Adding visible gpu devices: 0\n",
      "2021-11-29 18:40:32.104925: I tensorflow/stream_executor/platform/default/dso_loader.cc:49] Successfully opened dynamic library libcudart.so.10.1\n",
      "2021-11-29 18:40:32.704308: I tensorflow/core/common_runtime/gpu/gpu_device.cc:1261] Device interconnect StreamExecutor with strength 1 edge matrix:\n",
      "2021-11-29 18:40:32.704340: I tensorflow/core/common_runtime/gpu/gpu_device.cc:1267]      0 \n",
      "2021-11-29 18:40:32.704346: I tensorflow/core/common_runtime/gpu/gpu_device.cc:1280] 0:   N \n",
      "2021-11-29 18:40:32.707608: I tensorflow/core/common_runtime/gpu/gpu_device.cc:1406] Created TensorFlow device (/job:localhost/replica:0/task:0/device:GPU:0 with 30127 MB memory) -> physical GPU (device: 0, name: Tesla V100S-PCIE-32GB, pci bus id: 0000:3b:00.0, compute capability: 7.0)\n",
      "2021-11-29 18:40:32.707880: I tensorflow/compiler/jit/xla_gpu_device.cc:99] Not creating XLA devices, tf_xla_enable_xla_devices not set\n"
     ]
    }
   ],
   "source": [
    "model      = load_model('models/lstm_window_59_86.h5')\n",
    "spec_model = load_model('models/lstm_window_59_68.h5')"
   ]
  },
  {
   "cell_type": "code",
   "execution_count": 5,
   "metadata": {},
   "outputs": [],
   "source": [
    "train_raw = None\n",
    "\n",
    "for p in glob.glob('train/*.csv'):\n",
    "    data = pd.read_csv(p)\n",
    "    if train_raw is None:\n",
    "        train_raw = data\n",
    "        continue\n",
    "    train_raw = pd.concat([train_raw, data])"
   ]
  },
  {
   "cell_type": "code",
   "execution_count": 6,
   "metadata": {},
   "outputs": [],
   "source": [
    "train_dataset = TrainDataset(train_raw)"
   ]
  },
  {
   "cell_type": "markdown",
   "metadata": {},
   "source": [
    "상관 관계를 계산하여, 상관계수가 높고, 낮은 feature들을 구분하고 세트를 만듭니다."
   ]
  },
  {
   "cell_type": "code",
   "execution_count": 7,
   "metadata": {},
   "outputs": [],
   "source": [
    "_corr = train_dataset.df.corr()"
   ]
  },
  {
   "cell_type": "code",
   "execution_count": 8,
   "metadata": {},
   "outputs": [
    {
     "name": "stdout",
     "output_type": "stream",
     "text": [
      "Except Features: ['C01', 'C03', 'C04', 'C05', 'C06', 'C07', 'C08', 'C11', 'C12', 'C13', 'C14', 'C15', 'C16', 'C17', 'C20', 'C21', 'C23', 'C24', 'C25', 'C27', 'C28', 'C30', 'C31', 'C32', 'C33', 'C34', 'C35', 'C37', 'C40', 'C41', 'C42', 'C43', 'C44', 'C45', 'C46', 'C47', 'C48', 'C50', 'C51', 'C53', 'C54', 'C56', 'C57', 'C58', 'C59', 'C60', 'C61', 'C62', 'C64', 'C65', 'C66', 'C67', 'C68', 'C70', 'C71', 'C72', 'C73', 'C74', 'C75', 'C76', 'C77', 'C78', 'C79', 'C80', 'C81', 'C83', 'C84', 'C86']\n",
      "Low-releated Features: ['C02', 'C09', 'C10', 'C18', 'C19', 'C22', 'C26', 'C29', 'C36', 'C38', 'C39', 'C49', 'C52', 'C55', 'C63', 'C69', 'C82', 'C85']\n"
     ]
    }
   ],
   "source": [
    "spec_col = []\n",
    "low_spec_col = []\n",
    "\n",
    "for c in _corr.columns:\n",
    "    if not (len(np.unique(_corr[c] >= 0.7)) == 1 and len(np.unique(_corr[c] <= -0.7)) == 1):\n",
    "        spec_col.append(c)\n",
    "    else:\n",
    "        low_spec_col.append(c)\n",
    "\n",
    "print(f\"Except Features: {spec_col}\")\n",
    "print(f\"Low-releated Features: {low_spec_col}\")"
   ]
  },
  {
   "cell_type": "markdown",
   "metadata": {},
   "source": [
    "각 데이터셋 별로 최대값, 최소값을 구한다음 정규화를 합니다."
   ]
  },
  {
   "cell_type": "code",
   "execution_count": 9,
   "metadata": {},
   "outputs": [],
   "source": [
    "tag_min =  train_dataset.df.min()\n",
    "tag_max = train_dataset.df.max()\n",
    "\n",
    "spec_tag_min =  train_dataset.df[spec_col].min()\n",
    "spec_tag_max = train_dataset.df[spec_col].max()"
   ]
  },
  {
   "cell_type": "code",
   "execution_count": 10,
   "metadata": {},
   "outputs": [],
   "source": [
    "norm_df = dataset.normalize(train_dataset.df, tag_min, tag_max)\n",
    "norm_df = norm_df.ewm(alpha=0.9).mean()\n",
    "\n",
    "norm_spec_df = dataset.normalize(train_dataset.df[spec_col], spec_tag_min, spec_tag_max)\n",
    "norm_spec_df = norm_spec_df.ewm(alpha=0.9).mean()"
   ]
  },
  {
   "cell_type": "markdown",
   "metadata": {},
   "source": [
    "문제가 있는지 검사합니다."
   ]
  },
  {
   "cell_type": "code",
   "execution_count": 11,
   "metadata": {},
   "outputs": [
    {
     "name": "stdout",
     "output_type": "stream",
     "text": [
      "(False, False, False)\n",
      "(False, False, False)\n"
     ]
    }
   ],
   "source": [
    "print(dataset.boundary_check(norm_df))\n",
    "print(dataset.boundary_check(norm_spec_df))"
   ]
  },
  {
   "cell_type": "code",
   "execution_count": null,
   "metadata": {},
   "outputs": [
    {
     "name": "stderr",
     "output_type": "stream",
     "text": [
      "100%|██████████| 1004343/1004343 [02:13<00:00, 7539.43it/s]"
     ]
    },
    {
     "name": "stdout",
     "output_type": "stream",
     "text": [
      "# of valid windows: 1004048\n"
     ]
    },
    {
     "name": "stderr",
     "output_type": "stream",
     "text": [
      "\n"
     ]
    }
   ],
   "source": [
    "hai_dataset = HaiDataset(train_dataset.ts, norm_spec_df, 1, None, 59, 60)"
   ]
  },
  {
   "cell_type": "markdown",
   "metadata": {},
   "source": [
    "3에서 사용할 클러스터링을 위해 train에 대한 데이터셋도 생성합니다."
   ]
  },
  {
   "cell_type": "code",
   "execution_count": null,
   "metadata": {},
   "outputs": [],
   "source": [
    "train_spec_X = hai_dataset.get_train_set()\n",
    "train_spec_y = hai_dataset.get_label_set()"
   ]
  },
  {
   "cell_type": "markdown",
   "metadata": {},
   "source": [
    "# 1. 예측 및 성능 평가"
   ]
  },
  {
   "cell_type": "code",
   "execution_count": 12,
   "metadata": {},
   "outputs": [],
   "source": [
    "valid_dataset = ValidDataset(pd.read_csv('validation/validation.csv'))"
   ]
  },
  {
   "cell_type": "code",
   "execution_count": 13,
   "metadata": {},
   "outputs": [],
   "source": [
    "norm_valid_df = dataset.normalize(valid_dataset.df, tag_min, tag_max)\n",
    "norm_valid_df = norm_valid_df.ewm(alpha=0.9).mean()\n",
    "\n",
    "norm_valid_spec_df = dataset.normalize(valid_dataset.df[spec_col], spec_tag_min, spec_tag_max)\n",
    "norm_valid_spec_df = norm_valid_spec_df.ewm(alpha=0.9).mean()"
   ]
  },
  {
   "cell_type": "code",
   "execution_count": 14,
   "metadata": {},
   "outputs": [
    {
     "name": "stderr",
     "output_type": "stream",
     "text": [
      "100%|██████████| 86341/86341 [00:11<00:00, 7609.86it/s]\n",
      "  1%|          | 771/86341 [00:00<00:11, 7704.74it/s]"
     ]
    },
    {
     "name": "stdout",
     "output_type": "stream",
     "text": [
      "# of valid windows: 86341\n"
     ]
    },
    {
     "name": "stderr",
     "output_type": "stream",
     "text": [
      "100%|██████████| 86341/86341 [00:11<00:00, 7642.33it/s]"
     ]
    },
    {
     "name": "stdout",
     "output_type": "stream",
     "text": [
      "# of valid windows: 86341\n"
     ]
    },
    {
     "name": "stderr",
     "output_type": "stream",
     "text": [
      "\n"
     ]
    }
   ],
   "source": [
    "valid_hai_dataset = HaiDataset(valid_dataset.ts, norm_valid_df, 1, valid_dataset.att, 59, 60)\n",
    "valid_spec_hai_dataset = HaiDataset(valid_dataset.ts, norm_valid_spec_df, 1, valid_dataset.att, 59, 60)"
   ]
  },
  {
   "cell_type": "code",
   "execution_count": 15,
   "metadata": {},
   "outputs": [],
   "source": [
    "valid_X = valid_hai_dataset.get_train_set()\n",
    "spec_valid_X = valid_spec_hai_dataset.get_train_set()\n",
    "\n",
    "valid_y = valid_hai_dataset.get_label_set()\n",
    "spec_valid_y = valid_spec_hai_dataset.get_label_set()\n",
    "\n",
    "attack = valid_hai_dataset.get_attack_set()\n",
    "ts = valid_hai_dataset.get_ts_set()"
   ]
  },
  {
   "cell_type": "code",
   "execution_count": 16,
   "metadata": {},
   "outputs": [
    {
     "name": "stderr",
     "output_type": "stream",
     "text": [
      "2021-11-29 18:41:38.991271: I tensorflow/compiler/mlir/mlir_graph_optimization_pass.cc:116] None of the MLIR optimization passes are enabled (registered 2)\n",
      "2021-11-29 18:41:39.010974: I tensorflow/core/platform/profile_utils/cpu_utils.cc:112] CPU Frequency: 2100000000 Hz\n",
      "2021-11-29 18:41:40.613552: I tensorflow/stream_executor/platform/default/dso_loader.cc:49] Successfully opened dynamic library libcublas.so.10\n",
      "2021-11-29 18:41:40.859998: I tensorflow/stream_executor/platform/default/dso_loader.cc:49] Successfully opened dynamic library libcudnn.so.7\n"
     ]
    }
   ],
   "source": [
    "y_pred = model.predict(valid_X)\n",
    "spec_y_pred = spec_model.predict(spec_valid_X)"
   ]
  },
  {
   "cell_type": "code",
   "execution_count": 17,
   "metadata": {},
   "outputs": [
    {
     "data": {
      "text/plain": [
       "(array([0.01014181, 0.01053938, 0.01594968, ..., 0.00596045, 0.00498371,\n",
       "        0.0047919 ], dtype=float32),\n",
       " (86341,))"
      ]
     },
     "execution_count": 17,
     "metadata": {},
     "output_type": "execute_result"
    }
   ],
   "source": [
    "tmp = []\n",
    "\n",
    "for i in range(len(valid_y)):\n",
    "    tmp.append(abs(valid_y[i] - y_pred[i]))\n",
    "\n",
    "anomaly_score = np.mean(tmp, axis=1)\n",
    "anomaly_score, anomaly_score.shape"
   ]
  },
  {
   "cell_type": "code",
   "execution_count": 18,
   "metadata": {},
   "outputs": [
    {
     "data": {
      "text/plain": [
       "(array([0.01173777, 0.01190624, 0.01921682, ..., 0.0063624 , 0.00486209,\n",
       "        0.00597219], dtype=float32),\n",
       " (86341,))"
      ]
     },
     "execution_count": 18,
     "metadata": {},
     "output_type": "execute_result"
    }
   ],
   "source": [
    "tmp = []\n",
    "\n",
    "for i in range(len(spec_valid_y)):\n",
    "    tmp.append(abs(spec_valid_y[i] - spec_y_pred[i]))\n",
    "\n",
    "spec_anomaly_score = np.mean(tmp, axis=1)\n",
    "spec_anomaly_score, spec_anomaly_score.shape"
   ]
  },
  {
   "cell_type": "code",
   "execution_count": 19,
   "metadata": {},
   "outputs": [
    {
     "data": {
      "text/plain": [
       "(86341,)"
      ]
     },
     "execution_count": 19,
     "metadata": {},
     "output_type": "execute_result"
    }
   ],
   "source": [
    "sma = pd.DataFrame()\n",
    "anomaly_score_series = pd.Series(anomaly_score)\n",
    "sma = anomaly_score_series.rolling(window=20, min_periods=1).median().to_numpy()\n",
    "sma.shape"
   ]
  },
  {
   "cell_type": "code",
   "execution_count": 20,
   "metadata": {},
   "outputs": [
    {
     "data": {
      "text/plain": [
       "(86341,)"
      ]
     },
     "execution_count": 20,
     "metadata": {},
     "output_type": "execute_result"
    }
   ],
   "source": [
    "spec_sma = pd.DataFrame()\n",
    "anomaly_score_series = pd.Series(spec_anomaly_score)\n",
    "spec_sma = anomaly_score_series.rolling(window=20, min_periods=1).median().to_numpy()\n",
    "spec_sma.shape"
   ]
  },
  {
   "cell_type": "code",
   "execution_count": 21,
   "metadata": {},
   "outputs": [
    {
     "data": {
      "text/plain": [
       "(array([0, 0, 0, ..., 0, 0, 0]), (86400,))"
      ]
     },
     "execution_count": 21,
     "metadata": {},
     "output_type": "execute_result"
    }
   ],
   "source": [
    "attack_labels = dataset.put_labels(np.array(valid_dataset.att), threshold=0.5)\n",
    "attack_labels, attack_labels.shape"
   ]
  },
  {
   "cell_type": "code",
   "execution_count": 22,
   "metadata": {},
   "outputs": [
    {
     "name": "stderr",
     "output_type": "stream",
     "text": [
      "100%|██████████| 22/22 [04:16<00:00, 11.64s/it]\n",
      "100%|██████████| 22/22 [04:16<00:00, 11.66s/it]\n"
     ]
    }
   ],
   "source": [
    "tapr_result = dataset.get_best_threshold(sma, np.array(valid_dataset.ts), ts, attack_labels, t=np.arange(0.008, 0.03, 0.001))\n",
    "spec_tapr_result = dataset.get_best_threshold(spec_sma, np.array(valid_dataset.ts), ts, attack_labels, t=np.arange(0.008, 0.03, 0.001))"
   ]
  },
  {
   "cell_type": "code",
   "execution_count": 42,
   "metadata": {},
   "outputs": [],
   "source": [
    "score_df = pd.DataFrame(columns=['t', 'F1', 'TaP', 'TaR'])"
   ]
  },
  {
   "cell_type": "code",
   "execution_count": 43,
   "metadata": {},
   "outputs": [],
   "source": [
    "i = np.arange(0.008, 0.03, 0.001)\n",
    "for idx, v in enumerate(spec_tapr_result['results']):\n",
    "    score_df.loc[len(score_df)] = [i[idx], v['f1'], v['TaP'], v['TaR']]"
   ]
  },
  {
   "cell_type": "code",
   "execution_count": 44,
   "metadata": {},
   "outputs": [],
   "source": [
    "score_df.to_csv('kkkdddddkk.csv')"
   ]
  },
  {
   "cell_type": "code",
   "execution_count": 27,
   "metadata": {},
   "outputs": [
    {
     "name": "stdout",
     "output_type": "stream",
     "text": [
      "Normal Experiement, Best -> f1: 0.3540\n"
     ]
    },
    {
     "data": {
      "image/png": "[encoded data removed]",
      "text/plain": [
       "<Figure size 1440x576 with 2 Axes>"
      ]
     },
     "metadata": {
      "needs_background": "light"
     },
     "output_type": "display_data"
    }
   ],
   "source": [
    "print(f\"Normal Experiement, Best -> f1: {tapr_result['best']:.4f}\")\n",
    "dataset.check_graph(sma, attack, piece=2, THRESHOLD=tapr_result['best_threshold'])"
   ]
  },
  {
   "cell_type": "code",
   "execution_count": 28,
   "metadata": {},
   "outputs": [
    {
     "name": "stdout",
     "output_type": "stream",
     "text": [
      "Specific-Feature based Experiement, Best -> f1: 0.5480\n"
     ]
    },
    {
     "data": {
      "image/png": "[encoded data removed]",
      "text/plain": [
       "<Figure size 1440x576 with 2 Axes>"
      ]
     },
     "metadata": {
      "needs_background": "light"
     },
     "output_type": "display_data"
    }
   ],
   "source": [
    "print(f\"Specific-Feature based Experiement, Best -> f1: {spec_tapr_result['best']:.4f}\")\n",
    "dataset.check_graph(spec_sma, attack, piece=2, THRESHOLD=spec_tapr_result['best_threshold'])"
   ]
  },
  {
   "cell_type": "markdown",
   "metadata": {},
   "source": [
    "점수를 파일로 저장합니다."
   ]
  },
  {
   "cell_type": "code",
   "execution_count": null,
   "metadata": {},
   "outputs": [],
   "source": [
    "score_df = pd.DataFrame(columns=['t', 'F1', 'TaP', 'TaR'])"
   ]
  },
  {
   "cell_type": "code",
   "execution_count": null,
   "metadata": {},
   "outputs": [],
   "source": [
    "for i, tp in enumerate(tapr_result['results']):\n",
    "    score_df.loc[len(score_df)] = [0.0001*i, tp['f1'], tp['TaP'], tp['TaR']]\n",
    "\n",
    "for i, tp in enumerate(spec_tapr_result['results']):\n",
    "    score_df.loc[len(score_df)] = [0.0001*i, tp['f1'], tp['TaP'], tp['TaR']]"
   ]
  },
  {
   "cell_type": "code",
   "execution_count": null,
   "metadata": {},
   "outputs": [],
   "source": [
    "score_df.to_csv(f\"tapr_result_{current_time}.csv\")"
   ]
  },
  {
   "cell_type": "markdown",
   "metadata": {},
   "source": [
    "모든 실험 결과(최상의 결과)를 한 그림에 표현할 수 잇도록 작성합니다."
   ]
  },
  {
   "cell_type": "code",
   "execution_count": null,
   "metadata": {},
   "outputs": [],
   "source": [
    "_, axs = plt.subplots(2, figsize=(20, 4 * 2))\n",
    "l = sma.shape[0]\n",
    "chunk = l // 2\n",
    "\n",
    "for i in range(2):\n",
    "    L = i * chunk\n",
    "    R = min(L + chunk, l)\n",
    "    xticks = range(L, R)\n",
    "    axs[i].plot(xticks, sma[L:R], color='green', label='MSE (Normal)')\n",
    "    axs[i].plot(xticks, spec_sma[L:R], color='blue', label='MSE (with PCC)')\n",
    "\n",
    "    if len(sma[L:R]) > 0:\n",
    "        peak = max(sma[L:R])\n",
    "        axs[i].plot(xticks, attack[L:R] * peak * 0.3, color='darkorange', label='Attack Point')\n",
    "            \n",
    "    axs[i].axhline(y=tapr_result['best_threshold'], color='orangered', label=f\"Threshold (Normal, v: {tapr_result['best_threshold']:.4f}, F1: {tapr_result['best']:.4f})\")\n",
    "    axs[i].axhline(y=spec_tapr_result['best_threshold'], color='red', label=f\"Threshold (with PCC, v: {spec_tapr_result['best_threshold']:.4f}, F1: {spec_tapr_result['best']:.4f})\")\n",
    "    axs[i].set_title(f'MSE-based Error Graph and Threshold Results, Seq: [{L} - {R} sec.]')\n",
    "    axs[i].legend()\n",
    "plt.show()"
   ]
  },
  {
   "cell_type": "markdown",
   "metadata": {},
   "source": [
    "# 2. 클러스터링에 기반한 성능 평가"
   ]
  },
  {
   "cell_type": "code",
   "execution_count": 25,
   "metadata": {},
   "outputs": [
    {
     "data": {
      "image/png": "[encoded data removed]",
      "text/plain": [
       "<Figure size 288x288 with 1 Axes>"
      ]
     },
     "metadata": {
      "needs_background": "light"
     },
     "output_type": "display_data"
    }
   ],
   "source": [
    "_l = []\n",
    "for k in range(2, 11):\n",
    "    _kmeans = KMeans(n_clusters=k)\n",
    "    _kmeans.fit(anomaly_score.reshape(-1,1))\n",
    "    inte = _kmeans.inertia_\n",
    "    _l.append(inte)\n",
    "plt.figure(figsize=(4,4))\n",
    "plt.plot(range(2,11), _l, label='Inertia')\n",
    "plt.title('Result of elbow method for clustering (Non-PCC)')\n",
    "plt.show()"
   ]
  },
  {
   "cell_type": "code",
   "execution_count": 26,
   "metadata": {},
   "outputs": [],
   "source": [
    "km_model = KMeans(n_clusters=4)\n",
    "km_model.fit(anomaly_score.reshape(-1, 1).astype('float'))\n",
    "train_pred_cluster = km_model.predict(anomaly_score.reshape(-1, 1).astype('float'))"
   ]
  },
  {
   "cell_type": "code",
   "execution_count": 27,
   "metadata": {},
   "outputs": [
    {
     "data": {
      "text/plain": [
       "(array([3, 3, 1, ..., 2, 2, 2], dtype=int32),\n",
       " (86341,),\n",
       " array([0, 1, 2, 3], dtype=int32))"
      ]
     },
     "execution_count": 27,
     "metadata": {},
     "output_type": "execute_result"
    }
   ],
   "source": [
    "train_pred_cluster, train_pred_cluster.shape, np.unique(train_pred_cluster)"
   ]
  },
  {
   "cell_type": "code",
   "execution_count": 28,
   "metadata": {},
   "outputs": [
    {
     "data": {
      "text/plain": [
       "[36016, 6154, 26961, 17210]"
      ]
     },
     "execution_count": 28,
     "metadata": {},
     "output_type": "execute_result"
    }
   ],
   "source": [
    "len_list = []\n",
    "for i in range(0, len(np.unique(train_pred_cluster))):\n",
    "    len_list.append(len(np.where(train_pred_cluster == i)[0]))\n",
    "len_list"
   ]
  },
  {
   "cell_type": "code",
   "execution_count": 29,
   "metadata": {},
   "outputs": [],
   "source": [
    "pred_cluster = km_model.predict(sma.reshape(-1, 1))"
   ]
  },
  {
   "cell_type": "code",
   "execution_count": 30,
   "metadata": {},
   "outputs": [
    {
     "data": {
      "text/plain": [
       "(array([3, 3, 3, ..., 2, 2, 2], dtype=int32),\n",
       " (86341,),\n",
       " array([0, 1, 2, 3], dtype=int32))"
      ]
     },
     "execution_count": 30,
     "metadata": {},
     "output_type": "execute_result"
    }
   ],
   "source": [
    "pred_cluster, pred_cluster.shape, np.unique(pred_cluster)"
   ]
  },
  {
   "cell_type": "code",
   "execution_count": 31,
   "metadata": {},
   "outputs": [
    {
     "data": {
      "text/plain": [
       "(array([0.4171367 , 0.07127552, 0.31226185, 0.19932593]), (4,))"
      ]
     },
     "execution_count": 31,
     "metadata": {},
     "output_type": "execute_result"
    }
   ],
   "source": [
    "train_mean_list = [(i / len(train_pred_cluster)) for i in len_list]\n",
    "train_mean_list = np.array(train_mean_list)\n",
    "train_mean_list, train_mean_list.shape"
   ]
  },
  {
   "cell_type": "code",
   "execution_count": 32,
   "metadata": {},
   "outputs": [
    {
     "data": {
      "text/plain": [
       "(array([0.01407741, 0.01427946, 0.02304723, ..., 0.00834913, 0.00638034,\n",
       "        0.00783707]),\n",
       " (86341,))"
      ]
     },
     "execution_count": 32,
     "metadata": {},
     "output_type": "execute_result"
    }
   ],
   "source": [
    "k_anomaly_score = pd.Series([0.] * len(spec_y_pred))\n",
    "for i in range(len(np.unique(pred_cluster))):\n",
    "    _anomaly_score = np.mean(abs(spec_valid_y[np.where(pred_cluster == i)] - \\\n",
    "                                 spec_y_pred[np.where(pred_cluster == i)]), axis=1)\n",
    "    _anomaly_score = _anomaly_score + (_anomaly_score*train_mean_list[i])\n",
    "    k_anomaly_score.loc[np.where(pred_cluster == i)] = _anomaly_score\n",
    "    \n",
    "k_anomaly_score = k_anomaly_score.to_numpy()\n",
    "k_anomaly_score, k_anomaly_score.shape"
   ]
  },
  {
   "cell_type": "code",
   "execution_count": 37,
   "metadata": {},
   "outputs": [],
   "source": [
    "k_anomaly_sma = pd.Series(k_anomaly_score)\n",
    "k_anomaly_sma = k_anomaly_sma.rolling(window=20, min_periods=1).median()"
   ]
  },
  {
   "cell_type": "code",
   "execution_count": 38,
   "metadata": {},
   "outputs": [
    {
     "data": {
      "image/png": "[encoded data removed]",
      "text/plain": [
       "<Figure size 1440x288 with 1 Axes>"
      ]
     },
     "metadata": {
      "needs_background": "light"
     },
     "output_type": "display_data"
    }
   ],
   "source": [
    "plt.figure(figsize=(20, 4))\n",
    "L = 0\n",
    "R = len(spec_sma)\n",
    "xticks = range(L, R)\n",
    "plt.plot(xticks, sma, label='Error Value (NORM)')\n",
    "plt.plot(xticks, spec_sma, label=' Error Value (PCC)')\n",
    "plt.plot(xticks, k_anomaly_sma, label='Error Value (Clustering)')\n",
    "peak = max(k_anomaly_sma[L:R])\n",
    "plt.plot(xticks, attack[L:R] * peak * 0.1, label='Attack Point')\n",
    "plt.legend()\n",
    "plt.show()"
   ]
  },
  {
   "cell_type": "code",
   "execution_count": 39,
   "metadata": {},
   "outputs": [
    {
     "data": {
      "image/png": "[encoded data removed]",
      "text/plain": [
       "<Figure size 1440x288 with 1 Axes>"
      ]
     },
     "metadata": {
      "needs_background": "light"
     },
     "output_type": "display_data"
    }
   ],
   "source": [
    "plt.figure(figsize=(20, 4))\n",
    "L = 0\n",
    "R = len(spec_sma)\n",
    "xticks = range(L, R)\n",
    "plt.scatter(np.where(pred_cluster == 0)[0], \\\n",
    "             k_anomaly_sma.loc[np.where(pred_cluster == 0)], s=2, color='red', label='Index 0')\n",
    "plt.scatter(np.where(pred_cluster == 1)[0], \\\n",
    "             k_anomaly_sma.loc[np.where(pred_cluster == 1)], s=2, color='orange', label='Index 1')\n",
    "plt.scatter(np.where(pred_cluster == 2)[0], \\\n",
    "            k_anomaly_sma.loc[np.where(pred_cluster == 2)],  s=2, color='yellow', label='Index 2')\n",
    "plt.scatter(np.where(pred_cluster == 3)[0], \\\n",
    "             k_anomaly_sma.loc[np.where(pred_cluster == 3)], s=2, color='green', label='Index 3')\n",
    "if len(k_anomaly_sma[L:R]) > 0:\n",
    "    peak = max(k_anomaly_sma[L:R])\n",
    "    plt.plot(xticks, attack[L:R] * peak * 0.2, color='purple', label='Attack Point')\n",
    "plt.legend()\n",
    "plt.show()"
   ]
  },
  {
   "cell_type": "code",
   "execution_count": 40,
   "metadata": {},
   "outputs": [],
   "source": [
    "th_km_model = KMeans(n_clusters=3)\n",
    "th_pred = th_km_model.fit_predict(k_anomaly_sma.to_numpy().reshape(-1, 1))"
   ]
  },
  {
   "cell_type": "code",
   "execution_count": 41,
   "metadata": {},
   "outputs": [
    {
     "data": {
      "text/plain": [
       "array([-0.01703678, -0.00032005,  0.00554332])"
      ]
     },
     "execution_count": 41,
     "metadata": {},
     "output_type": "execute_result"
    }
   ],
   "source": [
    "opcode = []\n",
    "for m in range(0, len(np.unique(th_pred))):\n",
    "    v = k_anomaly_sma.mean() - k_anomaly_sma.iloc[np.where(th_pred == m)].mean()\n",
    "    if v < 0:\n",
    "        opcode.append(1 - (k_anomaly_sma.mean() / k_anomaly_sma.iloc[np.where(th_pred == m)].mean()))\n",
    "    else:\n",
    "        opcode.append(-((k_anomaly_sma.mean() / k_anomaly_sma.iloc[np.where(th_pred == m)].mean()) - 1))\n",
    "opcode = np.array(opcode)\n",
    "opcode*0.03"
   ]
  },
  {
   "cell_type": "code",
   "execution_count": 42,
   "metadata": {},
   "outputs": [
    {
     "data": {
      "text/plain": [
       "array([0.01407741, 0.01427946, 0.02304723, ..., 0.00834913, 0.00638034,\n",
       "       0.00783707])"
      ]
     },
     "execution_count": 42,
     "metadata": {},
     "output_type": "execute_result"
    }
   ],
   "source": [
    "k_anomaly_score"
   ]
  },
  {
   "cell_type": "code",
   "execution_count": 43,
   "metadata": {},
   "outputs": [],
   "source": [
    "anomaly_score_df = pd.Series(k_anomaly_score)\n",
    "\n",
    "score_mean_list = [] \n",
    "for p in np.unique(th_pred):\n",
    "    score_mean_list.append(anomaly_score_df.iloc[np.where(th_pred == p)].mean())\n",
    "\n",
    "score_mean_list = np.array(score_mean_list)\n",
    "total = score_mean_list.mean()"
   ]
  },
  {
   "cell_type": "code",
   "execution_count": 44,
   "metadata": {},
   "outputs": [],
   "source": [
    "threshold_list = []\n",
    "for m in range(0, len(np.unique(th_pred))):\n",
    "    if np.isnan(score_mean_list[m]):\n",
    "        threshold_list.append(0)\n",
    "    else:\n",
    "        threshold_list.append(total + (score_mean_list[m] * opcode[m]))"
   ]
  },
  {
   "cell_type": "code",
   "execution_count": 45,
   "metadata": {},
   "outputs": [
    {
     "data": {
      "text/plain": [
       "(array([0.01297819, 0.01297819, 0.01297819, ..., 0.01297819, 0.00800782,\n",
       "        0.00800782]),\n",
       " array([0.00800782, 0.01297819, 0.01620946]))"
      ]
     },
     "execution_count": 45,
     "metadata": {},
     "output_type": "execute_result"
    }
   ],
   "source": [
    "threshold_df = pd.Series([0] * len(anomaly_score_df))\n",
    "\n",
    "for i in range(len(threshold_list)):\n",
    "    threshold_df.iloc[np.where(th_pred == i)] = threshold_list[i]\n",
    "\n",
    "threshold = threshold_df.to_numpy()\n",
    "    \n",
    "threshold, np.unique(threshold)"
   ]
  },
  {
   "cell_type": "code",
   "execution_count": 46,
   "metadata": {},
   "outputs": [
    {
     "name": "stdout",
     "output_type": "stream",
     "text": [
      "f1 -> 0.02730799271926665431100000069, tap -> 0.01387847641982054567030403732, tar -> 0.8441581241355899127474230484\n"
     ]
    }
   ],
   "source": [
    "threshold_sma = pd.Series(threshold)\n",
    "threshold_sma = threshold_sma.rolling(window=863, min_periods=1).median().to_numpy()\n",
    "\n",
    "labels = np.zeros_like(k_anomaly_sma)\n",
    "for i, t in enumerate(threshold_sma):\n",
    "    if k_anomaly_sma[i] > t:\n",
    "        labels[i] = 1\n",
    "    \n",
    "final_labels = dataset.fill_blank(ts, labels, valid_dataset.ts)\n",
    "tapr_result = etapr.evaluate(anomalies=attack_labels, predictions=final_labels)\n",
    "print(f\"f1 -> {tapr_result['f1']}, tap -> {tapr_result['TaP']}, tar -> {tapr_result['TaR']}\")"
   ]
  },
  {
   "cell_type": "code",
   "execution_count": 47,
   "metadata": {},
   "outputs": [],
   "source": [
    "t_score_df = pd.DataFrame(columns=['alpha','F1','taP','taR'])\n",
    "best = 0\n",
    "best_alpha = 0\n",
    "\n",
    "def get_score(alpha):\n",
    "    threshold_sma = pd.Series(threshold)\n",
    "    threshold_sma = threshold_sma.rolling(window=863, min_periods=1).median().to_numpy()\n",
    "    threshold_sma = (threshold_sma * (1.0 + alpha))\n",
    "    \n",
    "    labels = np.zeros_like(k_anomaly_sma)\n",
    "    for i, t in enumerate(threshold_sma):\n",
    "        if k_anomaly_sma[i] > t:\n",
    "            labels[i] = 1\n",
    "    \n",
    "    final_labels = dataset.fill_blank(ts, labels, valid_dataset.ts)\n",
    "    tapr_result = etapr.evaluate(anomalies=attack_labels, predictions=final_labels)\n",
    "    \n",
    "    return [1.0 + alpha, tapr_result['f1'], tapr_result['TaP'], tapr_result['TaR']]\n",
    "\n",
    "with Pool(None) as p:\n",
    "    result = p.map(get_score, np.arange(0.00, 2.01, 0.01))"
   ]
  },
  {
   "cell_type": "code",
   "execution_count": 48,
   "metadata": {},
   "outputs": [
    {
     "data": {
      "application/vnd.jupyter.widget-view+json": {
       "model_id": "1e4ca608fc894bbda45e3413bedbbf6b",
       "version_major": 2,
       "version_minor": 0
      },
      "text/plain": [
       "  0%|          | 0/201 [00:00<?, ?it/s]"
      ]
     },
     "metadata": {},
     "output_type": "display_data"
    }
   ],
   "source": [
    "t_score_df = pd.DataFrame(columns=['alpha','F1','taP','taR'])\n",
    "for i in tqdm(result):\n",
    "    t_score_df.loc[len(t_score_df)] = i"
   ]
  },
  {
   "cell_type": "code",
   "execution_count": 49,
   "metadata": {},
   "outputs": [
    {
     "data": {
      "text/html": [
       "<div>\n",
       "<style scoped>\n",
       "    .dataframe tbody tr th:only-of-type {\n",
       "        vertical-align: middle;\n",
       "    }\n",
       "\n",
       "    .dataframe tbody tr th {\n",
       "        vertical-align: top;\n",
       "    }\n",
       "\n",
       "    .dataframe thead th {\n",
       "        text-align: right;\n",
       "    }\n",
       "</style>\n",
       "<table border=\"1\" class=\"dataframe\">\n",
       "  <thead>\n",
       "    <tr style=\"text-align: right;\">\n",
       "      <th></th>\n",
       "      <th>alpha</th>\n",
       "      <th>F1</th>\n",
       "      <th>taP</th>\n",
       "      <th>taR</th>\n",
       "    </tr>\n",
       "  </thead>\n",
       "  <tbody>\n",
       "    <tr>\n",
       "      <th>52</th>\n",
       "      <td>1.52</td>\n",
       "      <td>0.6879134986751123192529939146</td>\n",
       "      <td>0.8232556415664073415728956574</td>\n",
       "      <td>0.5907886267589850261136564088</td>\n",
       "    </tr>\n",
       "  </tbody>\n",
       "</table>\n",
       "</div>"
      ],
      "text/plain": [
       "    alpha                              F1                             taP  \\\n",
       "52   1.52  0.6879134986751123192529939146  0.8232556415664073415728956574   \n",
       "\n",
       "                               taR  \n",
       "52  0.5907886267589850261136564088  "
      ]
     },
     "execution_count": 49,
     "metadata": {},
     "output_type": "execute_result"
    }
   ],
   "source": [
    "t_score_df.iloc[np.where(t_score_df['F1'] == t_score_df['F1'].max())]"
   ]
  },
  {
   "cell_type": "code",
   "execution_count": 50,
   "metadata": {},
   "outputs": [],
   "source": [
    "t_score_df.to_csv(f\"tapr_result_with_no_pcc_threshold_{current_time}.csv\")"
   ]
  },
  {
   "cell_type": "code",
   "execution_count": 51,
   "metadata": {},
   "outputs": [
    {
     "data": {
      "text/plain": [
       "(array([0., 0., 0., ..., 1., 0., 0.]), (86341,), array([0., 1.]))"
      ]
     },
     "execution_count": 51,
     "metadata": {},
     "output_type": "execute_result"
    }
   ],
   "source": [
    "threshold_sma = pd.Series(threshold)\n",
    "threshold_sma = threshold_sma.rolling(window=863, min_periods=1).median().to_numpy()\n",
    "threshold_sma = (threshold_sma * 1.372)\n",
    "                 \n",
    "labels = np.zeros_like(k_anomaly_sma)\n",
    "for i, t in enumerate(threshold_sma):\n",
    "    if k_anomaly_sma[i] > t:\n",
    "        labels[i] = 1\n",
    "labels, labels.shape, np.unique(labels)"
   ]
  },
  {
   "cell_type": "code",
   "execution_count": 52,
   "metadata": {},
   "outputs": [
    {
     "data": {
      "image/png": "[encoded data removed]",
      "text/plain": [
       "<Figure size 1440x288 with 1 Axes>"
      ]
     },
     "metadata": {
      "needs_background": "light"
     },
     "output_type": "display_data"
    }
   ],
   "source": [
    "plt.figure(figsize=(20, 4))\n",
    "xticks = range(0, len(k_anomaly_sma))\n",
    "plt.plot(xticks, k_anomaly_sma, label='ME (with Clustering)')\n",
    "plt.plot(xticks, threshold_sma, label='threshold')\n",
    "plt.plot(xticks, attack * peak * 0.15, color='red', label='Attack Point')\n",
    "plt.legend()\n",
    "plt.show()"
   ]
  },
  {
   "cell_type": "markdown",
   "metadata": {},
   "source": [
    "# 3. 클러스터링 + 상대적 임계값에 기반한 성능 평가"
   ]
  },
  {
   "cell_type": "markdown",
   "metadata": {},
   "source": [
    "또한, 최적의 임계값을 계산하기 위해 평균 갯수에 대비하여, 각 클러스터링 인덱스가 차지하고 있는 비중을 계산합니다.</br>\n",
    "이 방법은 정확하진 않습니다. 그러나, 제어시스템은 공정을 운영할 때 나타나는 일정한 시퀀스들이 존재합니다.</br>\n",
    "따라서, K-mean 알고리즘을 통해 prediction value들이 군집하는 경향성(시퀀스의 특징)을 대략적으로 예측할 수 있습니다.</br>"
   ]
  },
  {
   "cell_type": "markdown",
   "metadata": {},
   "source": [
    "군집을 위한 적절한 클러스터링 갯수를 6으로 설정하였습니다.\n",
    "학습 데이터에서 PCC에 기반하여 오차값을 측정했을 때, 대략 6가지의 형태가 보입니다.\n"
   ]
  },
  {
   "cell_type": "code",
   "execution_count": 45,
   "metadata": {},
   "outputs": [
    {
     "data": {
      "image/png": "[encoded data removed]",
      "text/plain": [
       "<Figure size 288x288 with 1 Axes>"
      ]
     },
     "metadata": {
      "needs_background": "light"
     },
     "output_type": "display_data"
    }
   ],
   "source": [
    "_l = []\n",
    "for k in range(2, 11):\n",
    "    _kmeans = KMeans(n_clusters=k)\n",
    "    _kmeans.fit(spec_anomaly_score.reshape(-1,1))\n",
    "    inte = _kmeans.inertia_\n",
    "    _l.append(inte)\n",
    "plt.figure(figsize=(4,4))\n",
    "plt.plot(range(2,11), _l, label='Inertia')\n",
    "plt.title('Result of elbow method for optimizing clustering')\n",
    "plt.show()"
   ]
  },
  {
   "cell_type": "code",
   "execution_count": 46,
   "metadata": {},
   "outputs": [],
   "source": [
    "km_model = KMeans(n_clusters=4)\n",
    "km_model.fit(spec_anomaly_score.reshape(-1, 1).astype('float'))\n",
    "train_pred_cluster = km_model.predict(spec_anomaly_score.reshape(-1, 1).astype('float'))"
   ]
  },
  {
   "cell_type": "code",
   "execution_count": 47,
   "metadata": {},
   "outputs": [
    {
     "data": {
      "text/plain": [
       "(array([1, 1, 3, ..., 0, 0, 0], dtype=int32),\n",
       " (86341,),\n",
       " array([0, 1, 2, 3], dtype=int32))"
      ]
     },
     "execution_count": 47,
     "metadata": {},
     "output_type": "execute_result"
    }
   ],
   "source": [
    "train_pred_cluster, train_pred_cluster.shape, np.unique(train_pred_cluster)"
   ]
  },
  {
   "cell_type": "code",
   "execution_count": 48,
   "metadata": {},
   "outputs": [
    {
     "data": {
      "text/plain": [
       "[21797, 20449, 37184, 6911]"
      ]
     },
     "execution_count": 48,
     "metadata": {},
     "output_type": "execute_result"
    }
   ],
   "source": [
    "len_list = []\n",
    "for i in range(0, len(np.unique(train_pred_cluster))):\n",
    "    len_list.append(len(np.where(train_pred_cluster == i)[0]))\n",
    "len_list"
   ]
  },
  {
   "cell_type": "code",
   "execution_count": 49,
   "metadata": {},
   "outputs": [],
   "source": [
    "pred_cluster = km_model.predict(spec_sma.reshape(-1, 1))"
   ]
  },
  {
   "cell_type": "code",
   "execution_count": 50,
   "metadata": {},
   "outputs": [
    {
     "data": {
      "text/plain": [
       "(array([1, 1, 1, ..., 0, 0, 0], dtype=int32),\n",
       " (86341,),\n",
       " array([0, 1, 2, 3], dtype=int32))"
      ]
     },
     "execution_count": 50,
     "metadata": {},
     "output_type": "execute_result"
    }
   ],
   "source": [
    "pred_cluster, pred_cluster.shape, np.unique(pred_cluster)"
   ]
  },
  {
   "cell_type": "code",
   "execution_count": 51,
   "metadata": {},
   "outputs": [
    {
     "data": {
      "text/plain": [
       "(array([0.25245248, 0.23683997, 0.43066446, 0.08004308]), (4,))"
      ]
     },
     "execution_count": 51,
     "metadata": {},
     "output_type": "execute_result"
    }
   ],
   "source": [
    "train_mean_list = [(i / len(train_pred_cluster)) for i in len_list]\n",
    "train_mean_list = np.array(train_mean_list)\n",
    "train_mean_list, train_mean_list.shape"
   ]
  },
  {
   "cell_type": "markdown",
   "metadata": {},
   "source": [
    "각 클러스터링 인덱스 별로 차지하는 갯수를 구합니다."
   ]
  },
  {
   "cell_type": "code",
   "execution_count": 52,
   "metadata": {},
   "outputs": [
    {
     "data": {
      "text/plain": [
       "(array([0.01451774, 0.01472611, 0.02376813, ..., 0.0079686 , 0.00608954,\n",
       "        0.00747988]),\n",
       " (86341,))"
      ]
     },
     "execution_count": 52,
     "metadata": {},
     "output_type": "execute_result"
    }
   ],
   "source": [
    "k_spec_anomaly_score = pd.Series([0.] * len(spec_y_pred))\n",
    "for i in range(len(np.unique(pred_cluster))):\n",
    "    _anomaly_score = np.mean(abs(spec_valid_y[np.where(pred_cluster == i)] - \\\n",
    "                                 spec_y_pred[np.where(pred_cluster == i)]), axis=1)\n",
    "    _anomaly_score = _anomaly_score + (_anomaly_score*train_mean_list[i])\n",
    "    k_spec_anomaly_score.loc[np.where(pred_cluster == i)] = _anomaly_score\n",
    "    \n",
    "k_spec_anomaly_score = k_spec_anomaly_score.to_numpy()\n",
    "k_spec_anomaly_score, k_spec_anomaly_score.shape"
   ]
  },
  {
   "cell_type": "code",
   "execution_count": 53,
   "metadata": {},
   "outputs": [],
   "source": [
    "k_spec_anomaly_sma = pd.Series(k_spec_anomaly_score)\n",
    "k_spec_anomaly_sma = k_spec_anomaly_sma.rolling(window=20, min_periods=1).median()"
   ]
  },
  {
   "cell_type": "code",
   "execution_count": 54,
   "metadata": {},
   "outputs": [
    {
     "data": {
      "image/png": "[encoded data removed]",
      "text/plain": [
       "<Figure size 1440x288 with 1 Axes>"
      ]
     },
     "metadata": {
      "needs_background": "light"
     },
     "output_type": "display_data"
    }
   ],
   "source": [
    "plt.figure(figsize=(20, 4))\n",
    "L = 0\n",
    "R = len(spec_sma)\n",
    "xticks = range(L, R)\n",
    "plt.plot(xticks, sma, label='Error Value (NORM)')\n",
    "plt.plot(xticks, spec_sma, label=' Error Value (PCC)')\n",
    "plt.plot(xticks, k_spec_anomaly_sma, label='Error Value (PCC+Clustering)')\n",
    "peak = max(k_spec_anomaly_sma[L:R])\n",
    "plt.plot(xticks, attack[L:R] * peak * 0.1, label='Attack Point')\n",
    "plt.legend()\n",
    "plt.show()"
   ]
  },
  {
   "cell_type": "code",
   "execution_count": 55,
   "metadata": {},
   "outputs": [
    {
     "data": {
      "image/png": "[encoded data removed]",
      "text/plain": [
       "<Figure size 1440x288 with 1 Axes>"
      ]
     },
     "metadata": {
      "needs_background": "light"
     },
     "output_type": "display_data"
    }
   ],
   "source": [
    "plt.figure(figsize=(20, 4))\n",
    "L = 0\n",
    "R = len(spec_sma)\n",
    "xticks = range(L, R)\n",
    "plt.scatter(np.where(pred_cluster == 0)[0], \\\n",
    "             k_spec_anomaly_sma.loc[np.where(pred_cluster == 0)], s=2, color='red', label='Index 0')\n",
    "plt.scatter(np.where(pred_cluster == 1)[0], \\\n",
    "             k_spec_anomaly_sma.loc[np.where(pred_cluster == 1)], s=2, color='orange', label='Index 1')\n",
    "plt.scatter(np.where(pred_cluster == 2)[0], \\\n",
    "            k_spec_anomaly_sma.loc[np.where(pred_cluster == 2)],  s=2, color='yellow', label='Index 2')\n",
    "plt.scatter(np.where(pred_cluster == 3)[0], \\\n",
    "             k_spec_anomaly_sma.loc[np.where(pred_cluster == 3)], s=2, color='green', label='Index 3')\n",
    "if len(k_spec_anomaly_sma[L:R]) > 0:\n",
    "    peak = max(k_spec_anomaly_sma[L:R])\n",
    "    plt.plot(xticks, attack[L:R] * peak * 0.2, color='purple', label='Attack Point')\n",
    "plt.legend()\n",
    "plt.show()"
   ]
  },
  {
   "cell_type": "code",
   "execution_count": 56,
   "metadata": {},
   "outputs": [
    {
     "data": {
      "text/plain": [
       "array([2, 2, 2, ..., 1, 1, 1], dtype=int32)"
      ]
     },
     "execution_count": 56,
     "metadata": {},
     "output_type": "execute_result"
    }
   ],
   "source": [
    "th_km_model = KMeans(n_clusters=4)\n",
    "th_pred = th_km_model.fit_predict(k_spec_anomaly_sma.to_numpy().reshape(-1, 1))\n",
    "th_pred"
   ]
  },
  {
   "cell_type": "code",
   "execution_count": 57,
   "metadata": {},
   "outputs": [
    {
     "name": "stdout",
     "output_type": "stream",
     "text": [
      "Total means: 0.013474456542744897\n",
      "Means of cluster 0: 0.012971792847510702\n",
      "Means of cluster 1: 0.008171900953687729\n",
      "Means of cluster 2: 0.01491356596914183\n",
      "Means of cluster 3: 0.017759691697334625\n"
     ]
    },
    {
     "data": {
      "text/plain": [
       "array([-0.03875052, -0.64887663,  0.09649667,  0.24128995])"
      ]
     },
     "execution_count": 57,
     "metadata": {},
     "output_type": "execute_result"
    }
   ],
   "source": [
    "opcode = []\n",
    "print(f\"Total means: {k_spec_anomaly_sma.mean()}\")\n",
    "for m in range(0, len(np.unique(th_pred))):\n",
    "    print(f\"Means of cluster {m}: {k_spec_anomaly_sma.iloc[np.where(th_pred == m)].mean()}\")\n",
    "    v = k_spec_anomaly_sma.mean() - k_spec_anomaly_sma.iloc[np.where(th_pred == m)].mean()\n",
    "    if v < 0:\n",
    "        opcode.append(1 - (k_spec_anomaly_sma.mean() / k_spec_anomaly_sma.iloc[np.where(th_pred == m)].mean()))\n",
    "    else:\n",
    "        opcode.append(-((k_spec_anomaly_sma.mean() / k_spec_anomaly_sma.iloc[np.where(th_pred == m)].mean()) - 1))\n",
    "opcode = np.array(opcode)\n",
    "opcode"
   ]
  },
  {
   "cell_type": "code",
   "execution_count": 58,
   "metadata": {},
   "outputs": [
    {
     "data": {
      "text/plain": [
       "array([0.01451774, 0.01472611, 0.02376813, ..., 0.0079686 , 0.00608954,\n",
       "       0.00747988])"
      ]
     },
     "execution_count": 58,
     "metadata": {},
     "output_type": "execute_result"
    }
   ],
   "source": [
    "k_spec_anomaly_score"
   ]
  },
  {
   "cell_type": "code",
   "execution_count": 59,
   "metadata": {},
   "outputs": [],
   "source": [
    "spec_anomaly_score_df = pd.Series(k_spec_anomaly_score)\n",
    "\n",
    "score_mean_list = [] \n",
    "for p in np.unique(th_pred):\n",
    "    score_mean_list.append(spec_anomaly_score_df.iloc[np.where(th_pred == p)].mean())\n",
    "\n",
    "score_mean_list = np.array(score_mean_list)\n",
    "total = score_mean_list.mean()"
   ]
  },
  {
   "cell_type": "code",
   "execution_count": 60,
   "metadata": {
    "scrolled": true
   },
   "outputs": [
    {
     "data": {
      "text/plain": [
       "[0.013255441582866444,\n",
       " 0.008200147342019388,\n",
       " 0.01523748956260312,\n",
       " 0.01810834046670457]"
      ]
     },
     "execution_count": 60,
     "metadata": {},
     "output_type": "execute_result"
    }
   ],
   "source": [
    "threshold_list = []\n",
    "for m in range(0, len(np.unique(th_pred))):\n",
    "    if np.isnan(score_mean_list[m]):\n",
    "        threshold_list.append(0)\n",
    "    else:\n",
    "        threshold_list.append(total + (score_mean_list[m] * opcode[m]))\n",
    "threshold_list"
   ]
  },
  {
   "cell_type": "markdown",
   "metadata": {},
   "source": [
    "위 계산한 각 클러스터링 인덱스의 임계치들을 score에 각각 부여해줍니다."
   ]
  },
  {
   "cell_type": "code",
   "execution_count": 61,
   "metadata": {},
   "outputs": [
    {
     "data": {
      "text/plain": [
       "(array([0.01523749, 0.01523749, 0.01523749, ..., 0.00820015, 0.00820015,\n",
       "        0.00820015]),\n",
       " array([0.00820015, 0.01325544, 0.01523749, 0.01810834]))"
      ]
     },
     "execution_count": 61,
     "metadata": {},
     "output_type": "execute_result"
    }
   ],
   "source": [
    "threshold_df = pd.Series([0] * len(spec_anomaly_score_df))\n",
    "\n",
    "for i in range(len(threshold_list)):\n",
    "    threshold_df.iloc[np.where(th_pred == i)] = threshold_list[i]\n",
    "\n",
    "threshold = threshold_df.to_numpy()\n",
    "    \n",
    "threshold, np.unique(threshold)"
   ]
  },
  {
   "cell_type": "markdown",
   "metadata": {},
   "source": [
    "상대적 임계치를 별도로 튜닝하지 않아 점수가 낮은 편입니다. 이에 튜닝 작업을 진행합니다."
   ]
  },
  {
   "cell_type": "code",
   "execution_count": 62,
   "metadata": {},
   "outputs": [
    {
     "name": "stdout",
     "output_type": "stream",
     "text": [
      "f1 -> 0.03004498748907695928649692627, tap -> 0.01526952519485423239859542356, tar -> 0.9285714285714285714285714286\n"
     ]
    }
   ],
   "source": [
    "threshold_sma = pd.Series(threshold)\n",
    "threshold_sma = threshold_sma.rolling(window=1, min_periods=1).median().to_numpy()\n",
    "threshold_sma = (threshold_sma * 1.37)\n",
    "\n",
    "labels = np.zeros_like(k_spec_anomaly_sma)\n",
    "for i, t in enumerate(threshold_sma):\n",
    "    if k_spec_anomaly_sma[i] > t:\n",
    "        labels[i] = 1\n",
    "    \n",
    "final_labels = dataset.fill_blank(ts, labels, valid_dataset.ts)\n",
    "tapr_result = etapr.evaluate(anomalies=attack_labels, predictions=final_labels)\n",
    "print(f\"f1 -> {tapr_result['f1']}, tap -> {tapr_result['TaP']}, tar -> {tapr_result['TaR']}\")"
   ]
  },
  {
   "cell_type": "markdown",
   "metadata": {},
   "source": [
    "한번에 하나씩 계산하면 다량의 시간이 계산되므로, Pool을 사용했습니다."
   ]
  },
  {
   "cell_type": "code",
   "execution_count": 75,
   "metadata": {},
   "outputs": [],
   "source": [
    "t_score_df = pd.DataFrame(columns=['alpha','F1','taP','taR'])\n",
    "best = 0\n",
    "best_alpha = 0\n",
    "\n",
    "def get_score(alpha):\n",
    "    threshold_sma = pd.Series(threshold)\n",
    "    threshold_sma = threshold_sma.rolling(window=863, min_periods=1).median().to_numpy()\n",
    "    threshold_sma = (threshold_sma * (1.0 + alpha))\n",
    "    \n",
    "    labels = np.zeros_like(k_spec_anomaly_sma)\n",
    "    for i, t in enumerate(threshold_sma):\n",
    "        if k_spec_anomaly_sma[i] > t:\n",
    "            labels[i] = 1\n",
    "    \n",
    "    final_labels = dataset.fill_blank(ts, labels, valid_dataset.ts)\n",
    "    tapr_result = etapr.evaluate(anomalies=attack_labels, predictions=final_labels)\n",
    "    \n",
    "    return [1.0 + alpha, tapr_result['f1'], tapr_result['TaP'], tapr_result['TaR']]\n",
    "\n",
    "with Pool(None) as p:\n",
    "    result = p.map(get_score, np.arange(0.00, 2.01, 0.01))"
   ]
  },
  {
   "cell_type": "code",
   "execution_count": 76,
   "metadata": {},
   "outputs": [
    {
     "data": {
      "application/vnd.jupyter.widget-view+json": {
       "model_id": "ffeda9bb8a6b437b8545142007d1de73",
       "version_major": 2,
       "version_minor": 0
      },
      "text/plain": [
       "  0%|          | 0/201 [00:00<?, ?it/s]"
      ]
     },
     "metadata": {},
     "output_type": "display_data"
    }
   ],
   "source": [
    "t_score_df = pd.DataFrame(columns=['alpha','F1','taP','taR'])\n",
    "for i in tqdm(result):\n",
    "    t_score_df.loc[len(t_score_df)] = i"
   ]
  },
  {
   "cell_type": "markdown",
   "metadata": {},
   "source": [
    "성능이 개선되었는지 확인합니다. alpha가 1.5일 때, 최고 f1-score가 0.6425로 상당 부분 개선된 것을 알 수 있습니다."
   ]
  },
  {
   "cell_type": "code",
   "execution_count": 77,
   "metadata": {},
   "outputs": [
    {
     "data": {
      "text/html": [
       "<div>\n",
       "<style scoped>\n",
       "    .dataframe tbody tr th:only-of-type {\n",
       "        vertical-align: middle;\n",
       "    }\n",
       "\n",
       "    .dataframe tbody tr th {\n",
       "        vertical-align: top;\n",
       "    }\n",
       "\n",
       "    .dataframe thead th {\n",
       "        text-align: right;\n",
       "    }\n",
       "</style>\n",
       "<table border=\"1\" class=\"dataframe\">\n",
       "  <thead>\n",
       "    <tr style=\"text-align: right;\">\n",
       "      <th></th>\n",
       "      <th>alpha</th>\n",
       "      <th>F1</th>\n",
       "      <th>taP</th>\n",
       "      <th>taR</th>\n",
       "    </tr>\n",
       "  </thead>\n",
       "  <tbody>\n",
       "    <tr>\n",
       "      <th>37</th>\n",
       "      <td>1.37</td>\n",
       "      <td>0.6391365751682963989482799904</td>\n",
       "      <td>0.7570187046679497448929211794</td>\n",
       "      <td>0.5530207805781168589362654972</td>\n",
       "    </tr>\n",
       "  </tbody>\n",
       "</table>\n",
       "</div>"
      ],
      "text/plain": [
       "    alpha                              F1                             taP  \\\n",
       "37   1.37  0.6391365751682963989482799904  0.7570187046679497448929211794   \n",
       "\n",
       "                               taR  \n",
       "37  0.5530207805781168589362654972  "
      ]
     },
     "execution_count": 77,
     "metadata": {},
     "output_type": "execute_result"
    }
   ],
   "source": [
    "t_score_df.iloc[np.where(t_score_df['F1'] == t_score_df['F1'].max())]"
   ]
  },
  {
   "cell_type": "code",
   "execution_count": 78,
   "metadata": {},
   "outputs": [],
   "source": [
    "t_score_df.to_csv(f\"tapr_result_with_threshold_{current_time}.csv\")"
   ]
  },
  {
   "cell_type": "code",
   "execution_count": 51,
   "metadata": {},
   "outputs": [
    {
     "data": {
      "text/plain": [
       "(array([0., 0., 0., ..., 0., 0., 0.]), (86341,), array([0., 1.]))"
      ]
     },
     "execution_count": 51,
     "metadata": {},
     "output_type": "execute_result"
    }
   ],
   "source": [
    "threshold_sma = pd.Series(threshold)\n",
    "threshold_sma = threshold_sma.rolling(window=863, min_periods=1).median().to_numpy()\n",
    "threshold_sma = (threshold_sma * 1.372)\n",
    "                 \n",
    "labels = np.zeros_like(k_spec_anomaly_sma)\n",
    "for i, t in enumerate(threshold_sma):\n",
    "    if k_spec_anomaly_sma[i] > t:\n",
    "        labels[i] = 1\n",
    "labels, labels.shape, np.unique(labels)"
   ]
  },
  {
   "cell_type": "code",
   "execution_count": 52,
   "metadata": {},
   "outputs": [
    {
     "ename": "NameError",
     "evalue": "name 'k_anomaly_sma' is not defined",
     "output_type": "error",
     "traceback": [
      "\u001b[0;31m---------------------------------------------------------------------------\u001b[0m",
      "\u001b[0;31mNameError\u001b[0m                                 Traceback (most recent call last)",
      "\u001b[0;32m/tmp/ipykernel_3512/3358146203.py\u001b[0m in \u001b[0;36m<module>\u001b[0;34m\u001b[0m\n\u001b[1;32m      1\u001b[0m \u001b[0mplt\u001b[0m\u001b[0;34m.\u001b[0m\u001b[0mfigure\u001b[0m\u001b[0;34m(\u001b[0m\u001b[0mfigsize\u001b[0m\u001b[0;34m=\u001b[0m\u001b[0;34m(\u001b[0m\u001b[0;36m20\u001b[0m\u001b[0;34m,\u001b[0m \u001b[0;36m4\u001b[0m\u001b[0;34m)\u001b[0m\u001b[0;34m)\u001b[0m\u001b[0;34m\u001b[0m\u001b[0;34m\u001b[0m\u001b[0m\n\u001b[1;32m      2\u001b[0m \u001b[0mxticks\u001b[0m \u001b[0;34m=\u001b[0m \u001b[0mrange\u001b[0m\u001b[0;34m(\u001b[0m\u001b[0;36m0\u001b[0m\u001b[0;34m,\u001b[0m \u001b[0mlen\u001b[0m\u001b[0;34m(\u001b[0m\u001b[0mk_spec_anomaly_sma\u001b[0m\u001b[0;34m)\u001b[0m\u001b[0;34m)\u001b[0m\u001b[0;34m\u001b[0m\u001b[0;34m\u001b[0m\u001b[0m\n\u001b[0;32m----> 3\u001b[0;31m \u001b[0mplt\u001b[0m\u001b[0;34m.\u001b[0m\u001b[0mplot\u001b[0m\u001b[0;34m(\u001b[0m\u001b[0mxticks\u001b[0m\u001b[0;34m,\u001b[0m \u001b[0mk_anomaly_sma\u001b[0m\u001b[0;34m,\u001b[0m \u001b[0mlabel\u001b[0m\u001b[0;34m=\u001b[0m\u001b[0;34m'ME (with Clustering)'\u001b[0m\u001b[0;34m)\u001b[0m\u001b[0;34m\u001b[0m\u001b[0;34m\u001b[0m\u001b[0m\n\u001b[0m\u001b[1;32m      4\u001b[0m \u001b[0mplt\u001b[0m\u001b[0;34m.\u001b[0m\u001b[0mplot\u001b[0m\u001b[0;34m(\u001b[0m\u001b[0mxticks\u001b[0m\u001b[0;34m,\u001b[0m \u001b[0mk_spec_anomaly_sma\u001b[0m\u001b[0;34m,\u001b[0m \u001b[0mlabel\u001b[0m\u001b[0;34m=\u001b[0m\u001b[0;34m'ME (with PCC+Clustering)'\u001b[0m\u001b[0;34m)\u001b[0m\u001b[0;34m\u001b[0m\u001b[0;34m\u001b[0m\u001b[0m\n\u001b[1;32m      5\u001b[0m \u001b[0mplt\u001b[0m\u001b[0;34m.\u001b[0m\u001b[0mplot\u001b[0m\u001b[0;34m(\u001b[0m\u001b[0mxticks\u001b[0m\u001b[0;34m,\u001b[0m \u001b[0mthreshold_sma\u001b[0m\u001b[0;34m,\u001b[0m \u001b[0mlabel\u001b[0m\u001b[0;34m=\u001b[0m\u001b[0;34m'threshold'\u001b[0m\u001b[0;34m)\u001b[0m\u001b[0;34m\u001b[0m\u001b[0;34m\u001b[0m\u001b[0m\n",
      "\u001b[0;31mNameError\u001b[0m: name 'k_anomaly_sma' is not defined"
     ]
    },
    {
     "data": {
      "text/plain": [
       "<Figure size 1440x288 with 0 Axes>"
      ]
     },
     "metadata": {},
     "output_type": "display_data"
    }
   ],
   "source": [
    "plt.figure(figsize=(20, 4))\n",
    "xticks = range(0, len(k_spec_anomaly_sma))\n",
    "plt.plot(xticks, k_anomaly_sma, label='ME (with Clustering)')\n",
    "plt.plot(xticks, k_spec_anomaly_sma, label='ME (with PCC+Clustering)')\n",
    "plt.plot(xticks, threshold_sma, label='threshold')\n",
    "plt.plot(xticks, attack * peak * 0.15, color='red', label='Attack Point')\n",
    "plt.legend()\n",
    "plt.show()"
   ]
  },
  {
   "cell_type": "markdown",
   "metadata": {},
   "source": [
    "# Test"
   ]
  },
  {
   "cell_type": "code",
   "execution_count": 38,
   "metadata": {},
   "outputs": [],
   "source": [
    "test_raw = None\n",
    "\n",
    "for p in glob.glob('test/*.csv'):\n",
    "    data = pd.read_csv(p)\n",
    "    if test_raw is None:\n",
    "        test_raw = data\n",
    "        continue\n",
    "    test_raw = pd.concat([test_raw, data])"
   ]
  },
  {
   "cell_type": "code",
   "execution_count": 39,
   "metadata": {},
   "outputs": [
    {
     "data": {
      "text/html": [
       "<div>\n",
       "<style scoped>\n",
       "    .dataframe tbody tr th:only-of-type {\n",
       "        vertical-align: middle;\n",
       "    }\n",
       "\n",
       "    .dataframe tbody tr th {\n",
       "        vertical-align: top;\n",
       "    }\n",
       "\n",
       "    .dataframe thead th {\n",
       "        text-align: right;\n",
       "    }\n",
       "</style>\n",
       "<table border=\"1\" class=\"dataframe\">\n",
       "  <thead>\n",
       "    <tr style=\"text-align: right;\">\n",
       "      <th></th>\n",
       "      <th>timestamp</th>\n",
       "      <th>C01</th>\n",
       "      <th>C02</th>\n",
       "      <th>C03</th>\n",
       "      <th>C04</th>\n",
       "      <th>C05</th>\n",
       "      <th>C06</th>\n",
       "      <th>C07</th>\n",
       "      <th>C08</th>\n",
       "      <th>C09</th>\n",
       "      <th>...</th>\n",
       "      <th>C77</th>\n",
       "      <th>C78</th>\n",
       "      <th>C79</th>\n",
       "      <th>C80</th>\n",
       "      <th>C81</th>\n",
       "      <th>C82</th>\n",
       "      <th>C83</th>\n",
       "      <th>C84</th>\n",
       "      <th>C85</th>\n",
       "      <th>C86</th>\n",
       "    </tr>\n",
       "  </thead>\n",
       "  <tbody>\n",
       "    <tr>\n",
       "      <th>0</th>\n",
       "      <td>2021-07-14 17:40:01</td>\n",
       "      <td>-2.3266</td>\n",
       "      <td>0</td>\n",
       "      <td>11.90338</td>\n",
       "      <td>0.00029</td>\n",
       "      <td>4.58679</td>\n",
       "      <td>-0.2379</td>\n",
       "      <td>12.58870</td>\n",
       "      <td>70</td>\n",
       "      <td>1</td>\n",
       "      <td>...</td>\n",
       "      <td>1.21017</td>\n",
       "      <td>29.55186</td>\n",
       "      <td>8.81242</td>\n",
       "      <td>28.99807</td>\n",
       "      <td>421.06122</td>\n",
       "      <td>1</td>\n",
       "      <td>1036.90637</td>\n",
       "      <td>12.0</td>\n",
       "      <td>50</td>\n",
       "      <td>121</td>\n",
       "    </tr>\n",
       "    <tr>\n",
       "      <th>1</th>\n",
       "      <td>2021-07-14 17:40:02</td>\n",
       "      <td>-2.4180</td>\n",
       "      <td>0</td>\n",
       "      <td>11.90338</td>\n",
       "      <td>-0.00058</td>\n",
       "      <td>4.58679</td>\n",
       "      <td>-0.2964</td>\n",
       "      <td>12.58870</td>\n",
       "      <td>70</td>\n",
       "      <td>1</td>\n",
       "      <td>...</td>\n",
       "      <td>1.20865</td>\n",
       "      <td>29.53850</td>\n",
       "      <td>8.81242</td>\n",
       "      <td>28.99807</td>\n",
       "      <td>417.86029</td>\n",
       "      <td>1</td>\n",
       "      <td>1036.90637</td>\n",
       "      <td>12.0</td>\n",
       "      <td>50</td>\n",
       "      <td>139</td>\n",
       "    </tr>\n",
       "    <tr>\n",
       "      <th>2</th>\n",
       "      <td>2021-07-14 17:40:03</td>\n",
       "      <td>-2.5614</td>\n",
       "      <td>0</td>\n",
       "      <td>11.90338</td>\n",
       "      <td>-0.00058</td>\n",
       "      <td>4.58679</td>\n",
       "      <td>-0.2964</td>\n",
       "      <td>12.58870</td>\n",
       "      <td>70</td>\n",
       "      <td>1</td>\n",
       "      <td>...</td>\n",
       "      <td>1.20789</td>\n",
       "      <td>29.51829</td>\n",
       "      <td>8.81242</td>\n",
       "      <td>29.99137</td>\n",
       "      <td>417.86029</td>\n",
       "      <td>1</td>\n",
       "      <td>1036.90637</td>\n",
       "      <td>12.0</td>\n",
       "      <td>50</td>\n",
       "      <td>139</td>\n",
       "    </tr>\n",
       "    <tr>\n",
       "      <th>3</th>\n",
       "      <td>2021-07-14 17:40:04</td>\n",
       "      <td>-2.7243</td>\n",
       "      <td>0</td>\n",
       "      <td>11.90338</td>\n",
       "      <td>-0.00043</td>\n",
       "      <td>4.58679</td>\n",
       "      <td>-0.4704</td>\n",
       "      <td>12.58870</td>\n",
       "      <td>70</td>\n",
       "      <td>1</td>\n",
       "      <td>...</td>\n",
       "      <td>1.20789</td>\n",
       "      <td>29.48624</td>\n",
       "      <td>8.81242</td>\n",
       "      <td>32.97053</td>\n",
       "      <td>413.71887</td>\n",
       "      <td>1</td>\n",
       "      <td>1036.90637</td>\n",
       "      <td>12.0</td>\n",
       "      <td>50</td>\n",
       "      <td>113</td>\n",
       "    </tr>\n",
       "    <tr>\n",
       "      <th>4</th>\n",
       "      <td>2021-07-14 17:40:05</td>\n",
       "      <td>-2.8614</td>\n",
       "      <td>0</td>\n",
       "      <td>11.90338</td>\n",
       "      <td>-0.00051</td>\n",
       "      <td>4.58679</td>\n",
       "      <td>-0.5540</td>\n",
       "      <td>12.58870</td>\n",
       "      <td>70</td>\n",
       "      <td>1</td>\n",
       "      <td>...</td>\n",
       "      <td>1.20636</td>\n",
       "      <td>29.46908</td>\n",
       "      <td>8.81242</td>\n",
       "      <td>29.99137</td>\n",
       "      <td>411.04242</td>\n",
       "      <td>1</td>\n",
       "      <td>1036.90637</td>\n",
       "      <td>12.0</td>\n",
       "      <td>50</td>\n",
       "      <td>108</td>\n",
       "    </tr>\n",
       "    <tr>\n",
       "      <th>...</th>\n",
       "      <td>...</td>\n",
       "      <td>...</td>\n",
       "      <td>...</td>\n",
       "      <td>...</td>\n",
       "      <td>...</td>\n",
       "      <td>...</td>\n",
       "      <td>...</td>\n",
       "      <td>...</td>\n",
       "      <td>...</td>\n",
       "      <td>...</td>\n",
       "      <td>...</td>\n",
       "      <td>...</td>\n",
       "      <td>...</td>\n",
       "      <td>...</td>\n",
       "      <td>...</td>\n",
       "      <td>...</td>\n",
       "      <td>...</td>\n",
       "      <td>...</td>\n",
       "      <td>...</td>\n",
       "      <td>...</td>\n",
       "      <td>...</td>\n",
       "    </tr>\n",
       "    <tr>\n",
       "      <th>82795</th>\n",
       "      <td>2021-07-14 14:59:56</td>\n",
       "      <td>-3.0114</td>\n",
       "      <td>0</td>\n",
       "      <td>11.90338</td>\n",
       "      <td>0.00065</td>\n",
       "      <td>13.24615</td>\n",
       "      <td>-0.2966</td>\n",
       "      <td>12.58874</td>\n",
       "      <td>70</td>\n",
       "      <td>1</td>\n",
       "      <td>...</td>\n",
       "      <td>1.20255</td>\n",
       "      <td>29.27224</td>\n",
       "      <td>5.86356</td>\n",
       "      <td>263.36804</td>\n",
       "      <td>339.87994</td>\n",
       "      <td>1</td>\n",
       "      <td>987.14362</td>\n",
       "      <td>12.0</td>\n",
       "      <td>50</td>\n",
       "      <td>2287</td>\n",
       "    </tr>\n",
       "    <tr>\n",
       "      <th>82796</th>\n",
       "      <td>2021-07-14 14:59:57</td>\n",
       "      <td>-2.5903</td>\n",
       "      <td>0</td>\n",
       "      <td>11.90338</td>\n",
       "      <td>0.00210</td>\n",
       "      <td>13.24615</td>\n",
       "      <td>0.0445</td>\n",
       "      <td>12.58874</td>\n",
       "      <td>70</td>\n",
       "      <td>1</td>\n",
       "      <td>...</td>\n",
       "      <td>1.20255</td>\n",
       "      <td>29.27224</td>\n",
       "      <td>5.86356</td>\n",
       "      <td>259.39594</td>\n",
       "      <td>336.11835</td>\n",
       "      <td>1</td>\n",
       "      <td>987.14362</td>\n",
       "      <td>12.0</td>\n",
       "      <td>50</td>\n",
       "      <td>2513</td>\n",
       "    </tr>\n",
       "    <tr>\n",
       "      <th>82797</th>\n",
       "      <td>2021-07-14 14:59:58</td>\n",
       "      <td>-2.1569</td>\n",
       "      <td>0</td>\n",
       "      <td>11.90338</td>\n",
       "      <td>0.00145</td>\n",
       "      <td>13.24615</td>\n",
       "      <td>0.0485</td>\n",
       "      <td>12.58874</td>\n",
       "      <td>70</td>\n",
       "      <td>1</td>\n",
       "      <td>...</td>\n",
       "      <td>1.20255</td>\n",
       "      <td>29.26308</td>\n",
       "      <td>5.86356</td>\n",
       "      <td>255.42348</td>\n",
       "      <td>333.58649</td>\n",
       "      <td>1</td>\n",
       "      <td>987.14362</td>\n",
       "      <td>12.0</td>\n",
       "      <td>50</td>\n",
       "      <td>2776</td>\n",
       "    </tr>\n",
       "    <tr>\n",
       "      <th>82798</th>\n",
       "      <td>2021-07-14 14:59:59</td>\n",
       "      <td>-2.1569</td>\n",
       "      <td>0</td>\n",
       "      <td>11.91101</td>\n",
       "      <td>0.00080</td>\n",
       "      <td>13.25378</td>\n",
       "      <td>0.0485</td>\n",
       "      <td>12.58874</td>\n",
       "      <td>70</td>\n",
       "      <td>1</td>\n",
       "      <td>...</td>\n",
       "      <td>1.20255</td>\n",
       "      <td>29.25736</td>\n",
       "      <td>5.86356</td>\n",
       "      <td>260.38889</td>\n",
       "      <td>331.38019</td>\n",
       "      <td>1</td>\n",
       "      <td>987.14362</td>\n",
       "      <td>12.0</td>\n",
       "      <td>50</td>\n",
       "      <td>2962</td>\n",
       "    </tr>\n",
       "    <tr>\n",
       "      <th>82799</th>\n",
       "      <td>2021-07-14 15:00:00</td>\n",
       "      <td>-2.6931</td>\n",
       "      <td>0</td>\n",
       "      <td>11.89575</td>\n",
       "      <td>-0.00203</td>\n",
       "      <td>13.24615</td>\n",
       "      <td>-0.0022</td>\n",
       "      <td>12.58874</td>\n",
       "      <td>70</td>\n",
       "      <td>1</td>\n",
       "      <td>...</td>\n",
       "      <td>1.20178</td>\n",
       "      <td>29.23905</td>\n",
       "      <td>5.86356</td>\n",
       "      <td>258.40265</td>\n",
       "      <td>331.18127</td>\n",
       "      <td>1</td>\n",
       "      <td>987.14362</td>\n",
       "      <td>12.0</td>\n",
       "      <td>50</td>\n",
       "      <td>3148</td>\n",
       "    </tr>\n",
       "  </tbody>\n",
       "</table>\n",
       "<p>274800 rows × 87 columns</p>\n",
       "</div>"
      ],
      "text/plain": [
       "                 timestamp     C01  C02       C03      C04       C05     C06  \\\n",
       "0      2021-07-14 17:40:01 -2.3266    0  11.90338  0.00029   4.58679 -0.2379   \n",
       "1      2021-07-14 17:40:02 -2.4180    0  11.90338 -0.00058   4.58679 -0.2964   \n",
       "2      2021-07-14 17:40:03 -2.5614    0  11.90338 -0.00058   4.58679 -0.2964   \n",
       "3      2021-07-14 17:40:04 -2.7243    0  11.90338 -0.00043   4.58679 -0.4704   \n",
       "4      2021-07-14 17:40:05 -2.8614    0  11.90338 -0.00051   4.58679 -0.5540   \n",
       "...                    ...     ...  ...       ...      ...       ...     ...   \n",
       "82795  2021-07-14 14:59:56 -3.0114    0  11.90338  0.00065  13.24615 -0.2966   \n",
       "82796  2021-07-14 14:59:57 -2.5903    0  11.90338  0.00210  13.24615  0.0445   \n",
       "82797  2021-07-14 14:59:58 -2.1569    0  11.90338  0.00145  13.24615  0.0485   \n",
       "82798  2021-07-14 14:59:59 -2.1569    0  11.91101  0.00080  13.25378  0.0485   \n",
       "82799  2021-07-14 15:00:00 -2.6931    0  11.89575 -0.00203  13.24615 -0.0022   \n",
       "\n",
       "            C07  C08  C09  ...      C77       C78      C79        C80  \\\n",
       "0      12.58870   70    1  ...  1.21017  29.55186  8.81242   28.99807   \n",
       "1      12.58870   70    1  ...  1.20865  29.53850  8.81242   28.99807   \n",
       "2      12.58870   70    1  ...  1.20789  29.51829  8.81242   29.99137   \n",
       "3      12.58870   70    1  ...  1.20789  29.48624  8.81242   32.97053   \n",
       "4      12.58870   70    1  ...  1.20636  29.46908  8.81242   29.99137   \n",
       "...         ...  ...  ...  ...      ...       ...      ...        ...   \n",
       "82795  12.58874   70    1  ...  1.20255  29.27224  5.86356  263.36804   \n",
       "82796  12.58874   70    1  ...  1.20255  29.27224  5.86356  259.39594   \n",
       "82797  12.58874   70    1  ...  1.20255  29.26308  5.86356  255.42348   \n",
       "82798  12.58874   70    1  ...  1.20255  29.25736  5.86356  260.38889   \n",
       "82799  12.58874   70    1  ...  1.20178  29.23905  5.86356  258.40265   \n",
       "\n",
       "             C81  C82         C83   C84  C85   C86  \n",
       "0      421.06122    1  1036.90637  12.0   50   121  \n",
       "1      417.86029    1  1036.90637  12.0   50   139  \n",
       "2      417.86029    1  1036.90637  12.0   50   139  \n",
       "3      413.71887    1  1036.90637  12.0   50   113  \n",
       "4      411.04242    1  1036.90637  12.0   50   108  \n",
       "...          ...  ...         ...   ...  ...   ...  \n",
       "82795  339.87994    1   987.14362  12.0   50  2287  \n",
       "82796  336.11835    1   987.14362  12.0   50  2513  \n",
       "82797  333.58649    1   987.14362  12.0   50  2776  \n",
       "82798  331.38019    1   987.14362  12.0   50  2962  \n",
       "82799  331.18127    1   987.14362  12.0   50  3148  \n",
       "\n",
       "[274800 rows x 87 columns]"
      ]
     },
     "execution_count": 39,
     "metadata": {},
     "output_type": "execute_result"
    }
   ],
   "source": [
    "test_raw"
   ]
  },
  {
   "cell_type": "code",
   "execution_count": 41,
   "metadata": {},
   "outputs": [],
   "source": [
    "test_dataset = TrainDataset(test_raw)"
   ]
  },
  {
   "cell_type": "code",
   "execution_count": 42,
   "metadata": {},
   "outputs": [],
   "source": [
    "test_spec_df = dataset.normalize(test_dataset.df[spec_col], spec_tag_min, spec_tag_max)\n",
    "test_spec_df = test_spec_df.ewm(alpha=0.9).mean()"
   ]
  },
  {
   "cell_type": "code",
   "execution_count": 43,
   "metadata": {},
   "outputs": [
    {
     "name": "stderr",
     "output_type": "stream",
     "text": [
      "100%|██████████| 274741/274741 [00:36<00:00, 7577.37it/s]\n"
     ]
    },
    {
     "name": "stdout",
     "output_type": "stream",
     "text": [
      "# of valid windows: 274623\n"
     ]
    }
   ],
   "source": [
    "hai_test_dataset = HaiDataset(test_dataset.ts, test_spec_df, 1, None, 59, 60)\n",
    "test_spec_X = hai_test_dataset.get_train_set()\n",
    "test_spec_y = hai_test_dataset.get_label_set()"
   ]
  },
  {
   "cell_type": "code",
   "execution_count": 75,
   "metadata": {},
   "outputs": [],
   "source": [
    "check_ts = hai_test_dataset.get_ts_set()"
   ]
  },
  {
   "cell_type": "code",
   "execution_count": 44,
   "metadata": {},
   "outputs": [],
   "source": [
    "spec_y_test = spec_model.predict(test_spec_X)"
   ]
  },
  {
   "cell_type": "code",
   "execution_count": 45,
   "metadata": {},
   "outputs": [
    {
     "data": {
      "text/plain": [
       "(array([0.0073233 , 0.00763736, 0.00815304, ..., 0.0058098 , 0.01002671,\n",
       "        0.00913733], dtype=float32),\n",
       " (274623,))"
      ]
     },
     "execution_count": 45,
     "metadata": {},
     "output_type": "execute_result"
    }
   ],
   "source": [
    "tmp = []\n",
    "\n",
    "for i in range(len(test_spec_y)):\n",
    "    tmp.append(abs(test_spec_y[i] - spec_y_test[i]))\n",
    "\n",
    "spec_test_anomaly_score = np.mean(tmp, axis=1)\n",
    "spec_test_anomaly_score, spec_test_anomaly_score.shape"
   ]
  },
  {
   "cell_type": "code",
   "execution_count": 46,
   "metadata": {},
   "outputs": [
    {
     "data": {
      "text/plain": [
       "(274623,)"
      ]
     },
     "execution_count": 46,
     "metadata": {},
     "output_type": "execute_result"
    }
   ],
   "source": [
    "spec_test_sma = pd.DataFrame()\n",
    "anomaly_score_series = pd.Series(spec_test_anomaly_score)\n",
    "spec_test_sma = anomaly_score_series.rolling(window=20, min_periods=1).median().to_numpy()\n",
    "spec_test_sma.shape"
   ]
  },
  {
   "cell_type": "code",
   "execution_count": 51,
   "metadata": {},
   "outputs": [],
   "source": [
    "test_pred_cluster = km_model.predict(spec_test_anomaly_score.reshape(-1, 1).astype('float'))"
   ]
  },
  {
   "cell_type": "code",
   "execution_count": 55,
   "metadata": {},
   "outputs": [
    {
     "data": {
      "text/plain": [
       "(array([1, 1, 1, ..., 1, 2, 2], dtype=int32),\n",
       " (274623,),\n",
       " array([0, 1, 2, 3], dtype=int32))"
      ]
     },
     "execution_count": 55,
     "metadata": {},
     "output_type": "execute_result"
    }
   ],
   "source": [
    "test_pred_cluster, test_pred_cluster.shape, np.unique(test_pred_cluster)"
   ]
  },
  {
   "cell_type": "code",
   "execution_count": 56,
   "metadata": {},
   "outputs": [
    {
     "data": {
      "text/plain": [
       "[21754, 143500, 103293, 6076]"
      ]
     },
     "execution_count": 56,
     "metadata": {},
     "output_type": "execute_result"
    }
   ],
   "source": [
    "len_list = []\n",
    "for i in range(0, len(np.unique(test_pred_cluster))):\n",
    "    len_list.append(len(np.where(test_pred_cluster == i)[0]))\n",
    "len_list"
   ]
  },
  {
   "cell_type": "code",
   "execution_count": 57,
   "metadata": {},
   "outputs": [
    {
     "data": {
      "text/plain": [
       "(array([1, 1, 1, ..., 2, 2, 2], dtype=int32),\n",
       " (274623,),\n",
       " array([0, 1, 2, 3], dtype=int32))"
      ]
     },
     "execution_count": 57,
     "metadata": {},
     "output_type": "execute_result"
    }
   ],
   "source": [
    "pred_cluster = km_model.predict(spec_test_sma.reshape(-1, 1))\n",
    "pred_cluster, pred_cluster.shape, np.unique(pred_cluster)"
   ]
  },
  {
   "cell_type": "code",
   "execution_count": 58,
   "metadata": {},
   "outputs": [
    {
     "data": {
      "text/plain": [
       "(array([0.07921405, 0.52253453, 0.37612654, 0.02212488]), (4,))"
      ]
     },
     "execution_count": 58,
     "metadata": {},
     "output_type": "execute_result"
    }
   ],
   "source": [
    "test_mean_list = [(i / len(test_pred_cluster)) for i in len_list]\n",
    "test_mean_list = np.array(test_mean_list)\n",
    "test_mean_list, test_mean_list.shape"
   ]
  },
  {
   "cell_type": "code",
   "execution_count": 59,
   "metadata": {},
   "outputs": [],
   "source": [
    "k_spec_anomaly_score = pd.Series([0.] * len(spec_y_test))\n",
    "for i in range(len(np.unique(pred_cluster))):\n",
    "    _anomaly_score = np.mean(abs(test_spec_y[np.where(pred_cluster == i)] - \\\n",
    "                                 spec_y_test[np.where(pred_cluster == i)]), axis=1)\n",
    "    _anomaly_score = _anomaly_score + (_anomaly_score*train_mean_list[i])\n",
    "    k_spec_anomaly_score.loc[np.where(pred_cluster == i)] = _anomaly_score"
   ]
  },
  {
   "cell_type": "code",
   "execution_count": 61,
   "metadata": {},
   "outputs": [
    {
     "data": {
      "text/plain": [
       "(array([0.00916208, 0.00955499, 0.01020016, ..., 0.00826968, 0.01427205,\n",
       "        0.0130061 ]),\n",
       " (274623,))"
      ]
     },
     "execution_count": 61,
     "metadata": {},
     "output_type": "execute_result"
    }
   ],
   "source": [
    "k_spec_anomaly_score = k_spec_anomaly_score.to_numpy()\n",
    "k_spec_anomaly_score, k_spec_anomaly_score.shape"
   ]
  },
  {
   "cell_type": "code",
   "execution_count": 62,
   "metadata": {},
   "outputs": [],
   "source": [
    "k_spec_anomaly_sma = pd.Series(k_spec_anomaly_score)\n",
    "k_spec_anomaly_sma = k_spec_anomaly_sma.rolling(window=20, min_periods=1).median()"
   ]
  },
  {
   "cell_type": "code",
   "execution_count": 64,
   "metadata": {},
   "outputs": [
    {
     "data": {
      "image/png": "[encoded data removed]",
      "text/plain": [
       "<Figure size 1440x288 with 1 Axes>"
      ]
     },
     "metadata": {
      "needs_background": "light"
     },
     "output_type": "display_data"
    }
   ],
   "source": [
    "plt.figure(figsize=(20, 4))\n",
    "L = 0\n",
    "R = len(spec_test_sma)\n",
    "xticks = range(L, R)\n",
    "plt.plot(xticks, k_spec_anomaly_sma, label='Error Test Value (PCC+Clustering)')\n",
    "plt.legend()\n",
    "plt.show()"
   ]
  },
  {
   "cell_type": "code",
   "execution_count": 65,
   "metadata": {},
   "outputs": [],
   "source": [
    "th_pred = th_km_model.fit_predict(k_spec_anomaly_sma.to_numpy().reshape(-1, 1))"
   ]
  },
  {
   "cell_type": "code",
   "execution_count": 66,
   "metadata": {},
   "outputs": [
    {
     "data": {
      "text/plain": [
       "array([-0.06248459,  0.98389683,  0.91419858])"
      ]
     },
     "execution_count": 66,
     "metadata": {},
     "output_type": "execute_result"
    }
   ],
   "source": [
    "opcode = []\n",
    "for m in range(0, len(np.unique(th_pred))):\n",
    "    v = k_spec_anomaly_sma.mean() - k_spec_anomaly_sma.iloc[np.where(th_pred == m)].mean()\n",
    "    if v < 0:\n",
    "        opcode.append(1 - (k_spec_anomaly_sma.mean() / k_spec_anomaly_sma.iloc[np.where(th_pred == m)].mean()))\n",
    "    else:\n",
    "        opcode.append(-((k_spec_anomaly_sma.mean() / k_spec_anomaly_sma.iloc[np.where(th_pred == m)].mean()) - 1))\n",
    "opcode = np.array(opcode)\n",
    "opcode"
   ]
  },
  {
   "cell_type": "code",
   "execution_count": 67,
   "metadata": {},
   "outputs": [],
   "source": [
    "spec_anomaly_score_df = pd.Series(k_spec_anomaly_score)\n",
    "score_mean_list = [] \n",
    "for p in np.unique(th_pred):\n",
    "    score_mean_list.append(spec_anomaly_score_df.iloc[np.where(th_pred == p)].mean())\n",
    "\n",
    "score_mean_list = np.array(score_mean_list)\n",
    "total = score_mean_list.mean()"
   ]
  },
  {
   "cell_type": "code",
   "execution_count": 68,
   "metadata": {},
   "outputs": [],
   "source": [
    "threshold_list = []\n",
    "for m in range(0, len(np.unique(th_pred))):\n",
    "    if np.isnan(score_mean_list[m]):\n",
    "        threshold_list.append(0)\n",
    "    else:\n",
    "        threshold_list.append(total + (score_mean_list[m] * opcode[m]))\n",
    "threshold_list\n",
    "\n",
    "threshold_df = pd.Series([0] * len(spec_anomaly_score_df))"
   ]
  },
  {
   "cell_type": "code",
   "execution_count": 70,
   "metadata": {},
   "outputs": [],
   "source": [
    "for i in range(len(threshold_list)):\n",
    "    threshold_df.iloc[np.where(th_pred == i)] = threshold_list[i]\n",
    "\n",
    "threshold = threshold_df.to_numpy()"
   ]
  },
  {
   "cell_type": "code",
   "execution_count": 84,
   "metadata": {},
   "outputs": [
    {
     "ename": "KeyboardInterrupt",
     "evalue": "",
     "output_type": "error",
     "traceback": [
      "\u001b[0;31m---------------------------------------------------------------------------\u001b[0m",
      "\u001b[0;31mKeyboardInterrupt\u001b[0m                         Traceback (most recent call last)",
      "\u001b[0;32m/tmp/ipykernel_77099/3781216229.py\u001b[0m in \u001b[0;36m<module>\u001b[0;34m\u001b[0m\n\u001b[1;32m      6\u001b[0m     \u001b[0mlabels\u001b[0m \u001b[0;34m=\u001b[0m \u001b[0mnp\u001b[0m\u001b[0;34m.\u001b[0m\u001b[0mzeros_like\u001b[0m\u001b[0;34m(\u001b[0m\u001b[0mk_spec_anomaly_sma\u001b[0m\u001b[0;34m)\u001b[0m\u001b[0;34m\u001b[0m\u001b[0;34m\u001b[0m\u001b[0m\n\u001b[1;32m      7\u001b[0m     \u001b[0;32mfor\u001b[0m \u001b[0mi\u001b[0m\u001b[0;34m,\u001b[0m \u001b[0mt\u001b[0m \u001b[0;32min\u001b[0m \u001b[0menumerate\u001b[0m\u001b[0;34m(\u001b[0m\u001b[0mthreshold_sma\u001b[0m\u001b[0;34m)\u001b[0m\u001b[0;34m:\u001b[0m\u001b[0;34m\u001b[0m\u001b[0;34m\u001b[0m\u001b[0m\n\u001b[0;32m----> 8\u001b[0;31m         \u001b[0;32mif\u001b[0m \u001b[0mk_spec_anomaly_sma\u001b[0m\u001b[0;34m[\u001b[0m\u001b[0mi\u001b[0m\u001b[0;34m]\u001b[0m \u001b[0;34m>\u001b[0m \u001b[0mt\u001b[0m\u001b[0;34m:\u001b[0m\u001b[0;34m\u001b[0m\u001b[0;34m\u001b[0m\u001b[0m\n\u001b[0m\u001b[1;32m      9\u001b[0m             \u001b[0mlabels\u001b[0m\u001b[0;34m[\u001b[0m\u001b[0mi\u001b[0m\u001b[0;34m]\u001b[0m \u001b[0;34m=\u001b[0m \u001b[0;36m1\u001b[0m\u001b[0;34m\u001b[0m\u001b[0;34m\u001b[0m\u001b[0m\n\u001b[1;32m     10\u001b[0m \u001b[0;34m\u001b[0m\u001b[0m\n",
      "\u001b[0;32m~/anaconda3/envs/ai/lib/python3.8/site-packages/pandas/core/series.py\u001b[0m in \u001b[0;36m__getitem__\u001b[0;34m(self, key)\u001b[0m\n\u001b[1;32m    866\u001b[0m         \u001b[0;32mreturn\u001b[0m \u001b[0mself\u001b[0m\u001b[0;34m.\u001b[0m\u001b[0m_get_values\u001b[0m\u001b[0;34m(\u001b[0m\u001b[0mslobj\u001b[0m\u001b[0;34m)\u001b[0m\u001b[0;34m\u001b[0m\u001b[0;34m\u001b[0m\u001b[0m\n\u001b[1;32m    867\u001b[0m \u001b[0;34m\u001b[0m\u001b[0m\n\u001b[0;32m--> 868\u001b[0;31m     \u001b[0;32mdef\u001b[0m \u001b[0m__getitem__\u001b[0m\u001b[0;34m(\u001b[0m\u001b[0mself\u001b[0m\u001b[0;34m,\u001b[0m \u001b[0mkey\u001b[0m\u001b[0;34m)\u001b[0m\u001b[0;34m:\u001b[0m\u001b[0;34m\u001b[0m\u001b[0;34m\u001b[0m\u001b[0m\n\u001b[0m\u001b[1;32m    869\u001b[0m         \u001b[0mkey\u001b[0m \u001b[0;34m=\u001b[0m \u001b[0mcom\u001b[0m\u001b[0;34m.\u001b[0m\u001b[0mapply_if_callable\u001b[0m\u001b[0;34m(\u001b[0m\u001b[0mkey\u001b[0m\u001b[0;34m,\u001b[0m \u001b[0mself\u001b[0m\u001b[0;34m)\u001b[0m\u001b[0;34m\u001b[0m\u001b[0;34m\u001b[0m\u001b[0m\n\u001b[1;32m    870\u001b[0m         \u001b[0;32mtry\u001b[0m\u001b[0;34m:\u001b[0m\u001b[0;34m\u001b[0m\u001b[0;34m\u001b[0m\u001b[0m\n",
      "\u001b[0;31mKeyboardInterrupt\u001b[0m: "
     ]
    }
   ],
   "source": [
    "for alpha in np.arange(0.00, 2.01, 0.01):\n",
    "    threshold_sma = pd.Series(threshold)\n",
    "    threshold_sma = threshold_sma.rolling(window=2746, min_periods=1).median().to_numpy()\n",
    "    threshold_sma = (threshold_sma * (1.0 + alpha))\n",
    "    \n",
    "    labels = np.zeros_like(k_spec_anomaly_sma)\n",
    "    for i, t in enumerate(threshold_sma):\n",
    "        if k_spec_anomaly_sma[i] > t:\n",
    "            labels[i] = 1\n",
    "    \n",
    "    # final_labels = dataset.fill_blank(ts, labels, valid_dataset.ts)\n",
    "    submission = pd.read_csv('./data/sample_submission.csv')\n",
    "    submission.index = submission['timestamp']\n",
    "    submission.loc[check_ts, 'attack'] = labels\n",
    "    submission.to_csv('./results/lstm_baseline_{}.csv'.format(int(alpha*100)), index=False)"
   ]
  }
 ],
 "metadata": {
  "interpreter": {
   "hash": "6478cc09e6682207b4a81c79f75e1a4b4ef975c6484021c4b3ef787fd610e3fc"
  },
  "kernelspec": {
   "display_name": "Python 3 (ipykernel)",
   "language": "python",
   "name": "python3"
  },
  "language_info": {
   "codemirror_mode": {
    "name": "ipython",
    "version": 3
   },
   "file_extension": ".py",
   "mimetype": "text/x-python",
   "name": "python",
   "nbconvert_exporter": "python",
   "pygments_lexer": "ipython3",
   "version": "3.8.2"
  }
 },
 "nbformat": 4,
 "nbformat_minor": 2
}
